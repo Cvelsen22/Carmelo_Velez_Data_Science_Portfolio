{
  "nbformat": 4,
  "nbformat_minor": 0,
  "metadata": {
    "colab": {
      "provenance": [],
      "authorship_tag": "ABX9TyNKhPicDiHqe99YJFcUlIjg",
      "include_colab_link": true
    },
    "kernelspec": {
      "name": "python3",
      "display_name": "Python 3"
    },
    "language_info": {
      "name": "python"
    }
  },
  "cells": [
    {
      "cell_type": "markdown",
      "metadata": {
        "id": "view-in-github",
        "colab_type": "text"
      },
      "source": [
        "<a href=\"https://colab.research.google.com/github/Cvelsen22/Carmelo-Velez---Data-Analysis-Portfolio/blob/main/hourly_wages_prediction_with_Keras.ipynb\" target=\"_parent\"><img src=\"https://colab.research.google.com/assets/colab-badge.svg\" alt=\"Open In Colab\"/></a>"
      ]
    },
    {
      "cell_type": "markdown",
      "source": [
        "# Wages per hour prediction: Neuronal Networks with Keras API Case study"
      ],
      "metadata": {
        "id": "_XTASXynF5ml"
      }
    },
    {
      "cell_type": "markdown",
      "source": [
        "In this project, we aim to build a predictive model using Keras to estimate an individual's wage per hour. The dataset encompasses a variety of socio-economic factors that may influence wage earnings. The target variable, \"wage per hour,\" serves as our focal point for prediction."
      ],
      "metadata": {
        "id": "dhgc6jv0COYX"
      }
    },
    {
      "cell_type": "markdown",
      "source": [
        "Keras is a deep learning API written in Python, running on top of the machine learning platform TensorFlow. It was developed with a focus on enabling fast experimentation. Being able to go from idea to result as fast as possible is key to doing good research."
      ],
      "metadata": {
        "id": "Qttpp6d5G3wn"
      }
    },
    {
      "cell_type": "code",
      "execution_count": 17,
      "metadata": {
        "id": "GtWSS6W1Cs3h"
      },
      "outputs": [],
      "source": [
        "#libraries\n",
        "import numpy as np\n",
        "import pandas as pd\n",
        "import tensorflow as tf\n",
        "from tensorflow import keras\n",
        "# Now you can use Keras modules and classes\n",
        "from tensorflow.keras.models import Sequential\n",
        "from tensorflow.keras.layers import Dense\n",
        "# Import the SGD optimizer\n",
        "from tensorflow.keras.optimizers import SGD\n",
        "from tensorflow.keras.callbacks import EarlyStopping\n",
        "from urllib.request import urlretrieve\n",
        "import matplotlib.pyplot as plt"
      ]
    },
    {
      "cell_type": "markdown",
      "source": [
        "# About the data...\n",
        "\n",
        "* **Union Membership (union)**: Binary variable indicating whether an individual is a member of a labor union. Union membership can impact wages through collective bargaining and negotiated agreements.\n",
        "\n",
        "* **Education Years (education years)**: Represents the number of years of education an individual has completed. Education is a fundamental determinant of wages, often reflecting skills and qualifications.\n",
        "\n",
        "* **Experience Years (experience year)**: Denotes the number of years an individual has spent in the workforce. Work experience is a crucial factor influencing wage levels, capturing on-the-job learning and expertise.\n",
        "\n",
        "* **Age**: The age of the individual, which can correlate with experience and career progression. Older individuals may command higher wages due to accumulated expertise.\n",
        "\n",
        "* **Gender (female)**: Binary variable indicating the gender of the individual (1 for female, 0 for male). Gender is considered due to existing wage disparities that may result from gender-based discrimination.\n",
        "\n",
        "* **Marital Status (marr)**: Binary variable indicating whether an individual is married (1 for married, 0 for not married). Marital status can affect household income and financial responsibilities.\n",
        "\n",
        "* **Region (south)**: Binary variable indicating whether the individual resides in the southern region (1 for south, 0 for not south). Regional differences can influence cost of living and wage scales.\n",
        "\n",
        "* **Industry Type - Manufacturing and Construction**: Binary variables indicating whether the individual works in the manufacturing or construction sector. Industry type can significantly impact wages due to variations in demand, labor market conditions, and skill requirements."
      ],
      "metadata": {
        "id": "IOhiRvYgEEvR"
      }
    },
    {
      "cell_type": "code",
      "source": [
        "# Assign url of file: url\n",
        "url = 'https://raw.githubusercontent.com/Cvelsen22/data_files/main/hourly_wages.csv'\n",
        "# Save file locally\n",
        "urlretrieve(url,'hourly_wages.csv')\n",
        "# Read file into a DataFrame and print its head\n",
        "data = pd.read_csv('hourly_wages.csv')\n",
        "data.head()"
      ],
      "metadata": {
        "colab": {
          "base_uri": "https://localhost:8080/",
          "height": 206
        },
        "id": "5ynM4GiYC28m",
        "outputId": "e8c94b76-a714-4fcb-c4ff-29866e58ba09"
      },
      "execution_count": 2,
      "outputs": [
        {
          "output_type": "execute_result",
          "data": {
            "text/plain": [
              "   wage_per_hour  union  education_yrs  experience_yrs  age  female  marr  \\\n",
              "0           5.10      0              8              21   35       1     1   \n",
              "1           4.95      0              9              42   57       1     1   \n",
              "2           6.67      0             12               1   19       0     0   \n",
              "3           4.00      0             12               4   22       0     0   \n",
              "4           7.50      0             12              17   35       0     1   \n",
              "\n",
              "   south  manufacturing  construction  \n",
              "0      0              1             0  \n",
              "1      0              1             0  \n",
              "2      0              1             0  \n",
              "3      0              0             0  \n",
              "4      0              0             0  "
            ],
            "text/html": [
              "\n",
              "  <div id=\"df-a515d9da-6cf8-4464-bc43-327b64e71258\" class=\"colab-df-container\">\n",
              "    <div>\n",
              "<style scoped>\n",
              "    .dataframe tbody tr th:only-of-type {\n",
              "        vertical-align: middle;\n",
              "    }\n",
              "\n",
              "    .dataframe tbody tr th {\n",
              "        vertical-align: top;\n",
              "    }\n",
              "\n",
              "    .dataframe thead th {\n",
              "        text-align: right;\n",
              "    }\n",
              "</style>\n",
              "<table border=\"1\" class=\"dataframe\">\n",
              "  <thead>\n",
              "    <tr style=\"text-align: right;\">\n",
              "      <th></th>\n",
              "      <th>wage_per_hour</th>\n",
              "      <th>union</th>\n",
              "      <th>education_yrs</th>\n",
              "      <th>experience_yrs</th>\n",
              "      <th>age</th>\n",
              "      <th>female</th>\n",
              "      <th>marr</th>\n",
              "      <th>south</th>\n",
              "      <th>manufacturing</th>\n",
              "      <th>construction</th>\n",
              "    </tr>\n",
              "  </thead>\n",
              "  <tbody>\n",
              "    <tr>\n",
              "      <th>0</th>\n",
              "      <td>5.10</td>\n",
              "      <td>0</td>\n",
              "      <td>8</td>\n",
              "      <td>21</td>\n",
              "      <td>35</td>\n",
              "      <td>1</td>\n",
              "      <td>1</td>\n",
              "      <td>0</td>\n",
              "      <td>1</td>\n",
              "      <td>0</td>\n",
              "    </tr>\n",
              "    <tr>\n",
              "      <th>1</th>\n",
              "      <td>4.95</td>\n",
              "      <td>0</td>\n",
              "      <td>9</td>\n",
              "      <td>42</td>\n",
              "      <td>57</td>\n",
              "      <td>1</td>\n",
              "      <td>1</td>\n",
              "      <td>0</td>\n",
              "      <td>1</td>\n",
              "      <td>0</td>\n",
              "    </tr>\n",
              "    <tr>\n",
              "      <th>2</th>\n",
              "      <td>6.67</td>\n",
              "      <td>0</td>\n",
              "      <td>12</td>\n",
              "      <td>1</td>\n",
              "      <td>19</td>\n",
              "      <td>0</td>\n",
              "      <td>0</td>\n",
              "      <td>0</td>\n",
              "      <td>1</td>\n",
              "      <td>0</td>\n",
              "    </tr>\n",
              "    <tr>\n",
              "      <th>3</th>\n",
              "      <td>4.00</td>\n",
              "      <td>0</td>\n",
              "      <td>12</td>\n",
              "      <td>4</td>\n",
              "      <td>22</td>\n",
              "      <td>0</td>\n",
              "      <td>0</td>\n",
              "      <td>0</td>\n",
              "      <td>0</td>\n",
              "      <td>0</td>\n",
              "    </tr>\n",
              "    <tr>\n",
              "      <th>4</th>\n",
              "      <td>7.50</td>\n",
              "      <td>0</td>\n",
              "      <td>12</td>\n",
              "      <td>17</td>\n",
              "      <td>35</td>\n",
              "      <td>0</td>\n",
              "      <td>1</td>\n",
              "      <td>0</td>\n",
              "      <td>0</td>\n",
              "      <td>0</td>\n",
              "    </tr>\n",
              "  </tbody>\n",
              "</table>\n",
              "</div>\n",
              "    <div class=\"colab-df-buttons\">\n",
              "\n",
              "  <div class=\"colab-df-container\">\n",
              "    <button class=\"colab-df-convert\" onclick=\"convertToInteractive('df-a515d9da-6cf8-4464-bc43-327b64e71258')\"\n",
              "            title=\"Convert this dataframe to an interactive table.\"\n",
              "            style=\"display:none;\">\n",
              "\n",
              "  <svg xmlns=\"http://www.w3.org/2000/svg\" height=\"24px\" viewBox=\"0 -960 960 960\">\n",
              "    <path d=\"M120-120v-720h720v720H120Zm60-500h600v-160H180v160Zm220 220h160v-160H400v160Zm0 220h160v-160H400v160ZM180-400h160v-160H180v160Zm440 0h160v-160H620v160ZM180-180h160v-160H180v160Zm440 0h160v-160H620v160Z\"/>\n",
              "  </svg>\n",
              "    </button>\n",
              "\n",
              "  <style>\n",
              "    .colab-df-container {\n",
              "      display:flex;\n",
              "      gap: 12px;\n",
              "    }\n",
              "\n",
              "    .colab-df-convert {\n",
              "      background-color: #E8F0FE;\n",
              "      border: none;\n",
              "      border-radius: 50%;\n",
              "      cursor: pointer;\n",
              "      display: none;\n",
              "      fill: #1967D2;\n",
              "      height: 32px;\n",
              "      padding: 0 0 0 0;\n",
              "      width: 32px;\n",
              "    }\n",
              "\n",
              "    .colab-df-convert:hover {\n",
              "      background-color: #E2EBFA;\n",
              "      box-shadow: 0px 1px 2px rgba(60, 64, 67, 0.3), 0px 1px 3px 1px rgba(60, 64, 67, 0.15);\n",
              "      fill: #174EA6;\n",
              "    }\n",
              "\n",
              "    .colab-df-buttons div {\n",
              "      margin-bottom: 4px;\n",
              "    }\n",
              "\n",
              "    [theme=dark] .colab-df-convert {\n",
              "      background-color: #3B4455;\n",
              "      fill: #D2E3FC;\n",
              "    }\n",
              "\n",
              "    [theme=dark] .colab-df-convert:hover {\n",
              "      background-color: #434B5C;\n",
              "      box-shadow: 0px 1px 3px 1px rgba(0, 0, 0, 0.15);\n",
              "      filter: drop-shadow(0px 1px 2px rgba(0, 0, 0, 0.3));\n",
              "      fill: #FFFFFF;\n",
              "    }\n",
              "  </style>\n",
              "\n",
              "    <script>\n",
              "      const buttonEl =\n",
              "        document.querySelector('#df-a515d9da-6cf8-4464-bc43-327b64e71258 button.colab-df-convert');\n",
              "      buttonEl.style.display =\n",
              "        google.colab.kernel.accessAllowed ? 'block' : 'none';\n",
              "\n",
              "      async function convertToInteractive(key) {\n",
              "        const element = document.querySelector('#df-a515d9da-6cf8-4464-bc43-327b64e71258');\n",
              "        const dataTable =\n",
              "          await google.colab.kernel.invokeFunction('convertToInteractive',\n",
              "                                                    [key], {});\n",
              "        if (!dataTable) return;\n",
              "\n",
              "        const docLinkHtml = 'Like what you see? Visit the ' +\n",
              "          '<a target=\"_blank\" href=https://colab.research.google.com/notebooks/data_table.ipynb>data table notebook</a>'\n",
              "          + ' to learn more about interactive tables.';\n",
              "        element.innerHTML = '';\n",
              "        dataTable['output_type'] = 'display_data';\n",
              "        await google.colab.output.renderOutput(dataTable, element);\n",
              "        const docLink = document.createElement('div');\n",
              "        docLink.innerHTML = docLinkHtml;\n",
              "        element.appendChild(docLink);\n",
              "      }\n",
              "    </script>\n",
              "  </div>\n",
              "\n",
              "\n",
              "<div id=\"df-4b83d57d-c14f-4378-8d44-fd6ed231e3fc\">\n",
              "  <button class=\"colab-df-quickchart\" onclick=\"quickchart('df-4b83d57d-c14f-4378-8d44-fd6ed231e3fc')\"\n",
              "            title=\"Suggest charts\"\n",
              "            style=\"display:none;\">\n",
              "\n",
              "<svg xmlns=\"http://www.w3.org/2000/svg\" height=\"24px\"viewBox=\"0 0 24 24\"\n",
              "     width=\"24px\">\n",
              "    <g>\n",
              "        <path d=\"M19 3H5c-1.1 0-2 .9-2 2v14c0 1.1.9 2 2 2h14c1.1 0 2-.9 2-2V5c0-1.1-.9-2-2-2zM9 17H7v-7h2v7zm4 0h-2V7h2v10zm4 0h-2v-4h2v4z\"/>\n",
              "    </g>\n",
              "</svg>\n",
              "  </button>\n",
              "\n",
              "<style>\n",
              "  .colab-df-quickchart {\n",
              "      --bg-color: #E8F0FE;\n",
              "      --fill-color: #1967D2;\n",
              "      --hover-bg-color: #E2EBFA;\n",
              "      --hover-fill-color: #174EA6;\n",
              "      --disabled-fill-color: #AAA;\n",
              "      --disabled-bg-color: #DDD;\n",
              "  }\n",
              "\n",
              "  [theme=dark] .colab-df-quickchart {\n",
              "      --bg-color: #3B4455;\n",
              "      --fill-color: #D2E3FC;\n",
              "      --hover-bg-color: #434B5C;\n",
              "      --hover-fill-color: #FFFFFF;\n",
              "      --disabled-bg-color: #3B4455;\n",
              "      --disabled-fill-color: #666;\n",
              "  }\n",
              "\n",
              "  .colab-df-quickchart {\n",
              "    background-color: var(--bg-color);\n",
              "    border: none;\n",
              "    border-radius: 50%;\n",
              "    cursor: pointer;\n",
              "    display: none;\n",
              "    fill: var(--fill-color);\n",
              "    height: 32px;\n",
              "    padding: 0;\n",
              "    width: 32px;\n",
              "  }\n",
              "\n",
              "  .colab-df-quickchart:hover {\n",
              "    background-color: var(--hover-bg-color);\n",
              "    box-shadow: 0 1px 2px rgba(60, 64, 67, 0.3), 0 1px 3px 1px rgba(60, 64, 67, 0.15);\n",
              "    fill: var(--button-hover-fill-color);\n",
              "  }\n",
              "\n",
              "  .colab-df-quickchart-complete:disabled,\n",
              "  .colab-df-quickchart-complete:disabled:hover {\n",
              "    background-color: var(--disabled-bg-color);\n",
              "    fill: var(--disabled-fill-color);\n",
              "    box-shadow: none;\n",
              "  }\n",
              "\n",
              "  .colab-df-spinner {\n",
              "    border: 2px solid var(--fill-color);\n",
              "    border-color: transparent;\n",
              "    border-bottom-color: var(--fill-color);\n",
              "    animation:\n",
              "      spin 1s steps(1) infinite;\n",
              "  }\n",
              "\n",
              "  @keyframes spin {\n",
              "    0% {\n",
              "      border-color: transparent;\n",
              "      border-bottom-color: var(--fill-color);\n",
              "      border-left-color: var(--fill-color);\n",
              "    }\n",
              "    20% {\n",
              "      border-color: transparent;\n",
              "      border-left-color: var(--fill-color);\n",
              "      border-top-color: var(--fill-color);\n",
              "    }\n",
              "    30% {\n",
              "      border-color: transparent;\n",
              "      border-left-color: var(--fill-color);\n",
              "      border-top-color: var(--fill-color);\n",
              "      border-right-color: var(--fill-color);\n",
              "    }\n",
              "    40% {\n",
              "      border-color: transparent;\n",
              "      border-right-color: var(--fill-color);\n",
              "      border-top-color: var(--fill-color);\n",
              "    }\n",
              "    60% {\n",
              "      border-color: transparent;\n",
              "      border-right-color: var(--fill-color);\n",
              "    }\n",
              "    80% {\n",
              "      border-color: transparent;\n",
              "      border-right-color: var(--fill-color);\n",
              "      border-bottom-color: var(--fill-color);\n",
              "    }\n",
              "    90% {\n",
              "      border-color: transparent;\n",
              "      border-bottom-color: var(--fill-color);\n",
              "    }\n",
              "  }\n",
              "</style>\n",
              "\n",
              "  <script>\n",
              "    async function quickchart(key) {\n",
              "      const quickchartButtonEl =\n",
              "        document.querySelector('#' + key + ' button');\n",
              "      quickchartButtonEl.disabled = true;  // To prevent multiple clicks.\n",
              "      quickchartButtonEl.classList.add('colab-df-spinner');\n",
              "      try {\n",
              "        const charts = await google.colab.kernel.invokeFunction(\n",
              "            'suggestCharts', [key], {});\n",
              "      } catch (error) {\n",
              "        console.error('Error during call to suggestCharts:', error);\n",
              "      }\n",
              "      quickchartButtonEl.classList.remove('colab-df-spinner');\n",
              "      quickchartButtonEl.classList.add('colab-df-quickchart-complete');\n",
              "    }\n",
              "    (() => {\n",
              "      let quickchartButtonEl =\n",
              "        document.querySelector('#df-4b83d57d-c14f-4378-8d44-fd6ed231e3fc button');\n",
              "      quickchartButtonEl.style.display =\n",
              "        google.colab.kernel.accessAllowed ? 'block' : 'none';\n",
              "    })();\n",
              "  </script>\n",
              "</div>\n",
              "    </div>\n",
              "  </div>\n"
            ]
          },
          "metadata": {},
          "execution_count": 2
        }
      ]
    },
    {
      "cell_type": "code",
      "source": [
        "data.info()"
      ],
      "metadata": {
        "colab": {
          "base_uri": "https://localhost:8080/",
          "height": 0
        },
        "id": "_4V5VwooDi0H",
        "outputId": "35c47f3c-25d1-4eac-a426-98a2e2a96c0e"
      },
      "execution_count": 3,
      "outputs": [
        {
          "output_type": "stream",
          "name": "stdout",
          "text": [
            "<class 'pandas.core.frame.DataFrame'>\n",
            "RangeIndex: 534 entries, 0 to 533\n",
            "Data columns (total 10 columns):\n",
            " #   Column          Non-Null Count  Dtype  \n",
            "---  ------          --------------  -----  \n",
            " 0   wage_per_hour   534 non-null    float64\n",
            " 1   union           534 non-null    int64  \n",
            " 2   education_yrs   534 non-null    int64  \n",
            " 3   experience_yrs  534 non-null    int64  \n",
            " 4   age             534 non-null    int64  \n",
            " 5   female          534 non-null    int64  \n",
            " 6   marr            534 non-null    int64  \n",
            " 7   south           534 non-null    int64  \n",
            " 8   manufacturing   534 non-null    int64  \n",
            " 9   construction    534 non-null    int64  \n",
            "dtypes: float64(1), int64(9)\n",
            "memory usage: 41.8 KB\n"
          ]
        }
      ]
    },
    {
      "cell_type": "code",
      "source": [
        "data.shape"
      ],
      "metadata": {
        "colab": {
          "base_uri": "https://localhost:8080/",
          "height": 0
        },
        "id": "N-Q7pKafEhwx",
        "outputId": "9a29003d-ed83-49f1-97af-5910d382d3c2"
      },
      "execution_count": 4,
      "outputs": [
        {
          "output_type": "execute_result",
          "data": {
            "text/plain": [
              "(534, 10)"
            ]
          },
          "metadata": {},
          "execution_count": 4
        }
      ]
    },
    {
      "cell_type": "code",
      "source": [
        "data.describe()"
      ],
      "metadata": {
        "colab": {
          "base_uri": "https://localhost:8080/",
          "height": 300
        },
        "id": "N_Y_TV2gI6Oz",
        "outputId": "5088a060-ad02-4aae-bfa7-2d8b5239c063"
      },
      "execution_count": 5,
      "outputs": [
        {
          "output_type": "execute_result",
          "data": {
            "text/plain": [
              "       wage_per_hour       union  education_yrs  experience_yrs         age  \\\n",
              "count     534.000000  534.000000     534.000000      534.000000  534.000000   \n",
              "mean        9.024064    0.179775      13.018727       17.822097   36.833333   \n",
              "std         5.139097    0.384360       2.615373       12.379710   11.726573   \n",
              "min         1.000000    0.000000       2.000000        0.000000   18.000000   \n",
              "25%         5.250000    0.000000      12.000000        8.000000   28.000000   \n",
              "50%         7.780000    0.000000      12.000000       15.000000   35.000000   \n",
              "75%        11.250000    0.000000      15.000000       26.000000   44.000000   \n",
              "max        44.500000    1.000000      18.000000       55.000000   64.000000   \n",
              "\n",
              "           female        marr       south  manufacturing  construction  \n",
              "count  534.000000  534.000000  534.000000     534.000000    534.000000  \n",
              "mean     0.458801    0.655431    0.292135       0.185393      0.044944  \n",
              "std      0.498767    0.475673    0.455170       0.388981      0.207375  \n",
              "min      0.000000    0.000000    0.000000       0.000000      0.000000  \n",
              "25%      0.000000    0.000000    0.000000       0.000000      0.000000  \n",
              "50%      0.000000    1.000000    0.000000       0.000000      0.000000  \n",
              "75%      1.000000    1.000000    1.000000       0.000000      0.000000  \n",
              "max      1.000000    1.000000    1.000000       1.000000      1.000000  "
            ],
            "text/html": [
              "\n",
              "  <div id=\"df-932ee7f8-17c5-45cb-a839-4708d4518703\" class=\"colab-df-container\">\n",
              "    <div>\n",
              "<style scoped>\n",
              "    .dataframe tbody tr th:only-of-type {\n",
              "        vertical-align: middle;\n",
              "    }\n",
              "\n",
              "    .dataframe tbody tr th {\n",
              "        vertical-align: top;\n",
              "    }\n",
              "\n",
              "    .dataframe thead th {\n",
              "        text-align: right;\n",
              "    }\n",
              "</style>\n",
              "<table border=\"1\" class=\"dataframe\">\n",
              "  <thead>\n",
              "    <tr style=\"text-align: right;\">\n",
              "      <th></th>\n",
              "      <th>wage_per_hour</th>\n",
              "      <th>union</th>\n",
              "      <th>education_yrs</th>\n",
              "      <th>experience_yrs</th>\n",
              "      <th>age</th>\n",
              "      <th>female</th>\n",
              "      <th>marr</th>\n",
              "      <th>south</th>\n",
              "      <th>manufacturing</th>\n",
              "      <th>construction</th>\n",
              "    </tr>\n",
              "  </thead>\n",
              "  <tbody>\n",
              "    <tr>\n",
              "      <th>count</th>\n",
              "      <td>534.000000</td>\n",
              "      <td>534.000000</td>\n",
              "      <td>534.000000</td>\n",
              "      <td>534.000000</td>\n",
              "      <td>534.000000</td>\n",
              "      <td>534.000000</td>\n",
              "      <td>534.000000</td>\n",
              "      <td>534.000000</td>\n",
              "      <td>534.000000</td>\n",
              "      <td>534.000000</td>\n",
              "    </tr>\n",
              "    <tr>\n",
              "      <th>mean</th>\n",
              "      <td>9.024064</td>\n",
              "      <td>0.179775</td>\n",
              "      <td>13.018727</td>\n",
              "      <td>17.822097</td>\n",
              "      <td>36.833333</td>\n",
              "      <td>0.458801</td>\n",
              "      <td>0.655431</td>\n",
              "      <td>0.292135</td>\n",
              "      <td>0.185393</td>\n",
              "      <td>0.044944</td>\n",
              "    </tr>\n",
              "    <tr>\n",
              "      <th>std</th>\n",
              "      <td>5.139097</td>\n",
              "      <td>0.384360</td>\n",
              "      <td>2.615373</td>\n",
              "      <td>12.379710</td>\n",
              "      <td>11.726573</td>\n",
              "      <td>0.498767</td>\n",
              "      <td>0.475673</td>\n",
              "      <td>0.455170</td>\n",
              "      <td>0.388981</td>\n",
              "      <td>0.207375</td>\n",
              "    </tr>\n",
              "    <tr>\n",
              "      <th>min</th>\n",
              "      <td>1.000000</td>\n",
              "      <td>0.000000</td>\n",
              "      <td>2.000000</td>\n",
              "      <td>0.000000</td>\n",
              "      <td>18.000000</td>\n",
              "      <td>0.000000</td>\n",
              "      <td>0.000000</td>\n",
              "      <td>0.000000</td>\n",
              "      <td>0.000000</td>\n",
              "      <td>0.000000</td>\n",
              "    </tr>\n",
              "    <tr>\n",
              "      <th>25%</th>\n",
              "      <td>5.250000</td>\n",
              "      <td>0.000000</td>\n",
              "      <td>12.000000</td>\n",
              "      <td>8.000000</td>\n",
              "      <td>28.000000</td>\n",
              "      <td>0.000000</td>\n",
              "      <td>0.000000</td>\n",
              "      <td>0.000000</td>\n",
              "      <td>0.000000</td>\n",
              "      <td>0.000000</td>\n",
              "    </tr>\n",
              "    <tr>\n",
              "      <th>50%</th>\n",
              "      <td>7.780000</td>\n",
              "      <td>0.000000</td>\n",
              "      <td>12.000000</td>\n",
              "      <td>15.000000</td>\n",
              "      <td>35.000000</td>\n",
              "      <td>0.000000</td>\n",
              "      <td>1.000000</td>\n",
              "      <td>0.000000</td>\n",
              "      <td>0.000000</td>\n",
              "      <td>0.000000</td>\n",
              "    </tr>\n",
              "    <tr>\n",
              "      <th>75%</th>\n",
              "      <td>11.250000</td>\n",
              "      <td>0.000000</td>\n",
              "      <td>15.000000</td>\n",
              "      <td>26.000000</td>\n",
              "      <td>44.000000</td>\n",
              "      <td>1.000000</td>\n",
              "      <td>1.000000</td>\n",
              "      <td>1.000000</td>\n",
              "      <td>0.000000</td>\n",
              "      <td>0.000000</td>\n",
              "    </tr>\n",
              "    <tr>\n",
              "      <th>max</th>\n",
              "      <td>44.500000</td>\n",
              "      <td>1.000000</td>\n",
              "      <td>18.000000</td>\n",
              "      <td>55.000000</td>\n",
              "      <td>64.000000</td>\n",
              "      <td>1.000000</td>\n",
              "      <td>1.000000</td>\n",
              "      <td>1.000000</td>\n",
              "      <td>1.000000</td>\n",
              "      <td>1.000000</td>\n",
              "    </tr>\n",
              "  </tbody>\n",
              "</table>\n",
              "</div>\n",
              "    <div class=\"colab-df-buttons\">\n",
              "\n",
              "  <div class=\"colab-df-container\">\n",
              "    <button class=\"colab-df-convert\" onclick=\"convertToInteractive('df-932ee7f8-17c5-45cb-a839-4708d4518703')\"\n",
              "            title=\"Convert this dataframe to an interactive table.\"\n",
              "            style=\"display:none;\">\n",
              "\n",
              "  <svg xmlns=\"http://www.w3.org/2000/svg\" height=\"24px\" viewBox=\"0 -960 960 960\">\n",
              "    <path d=\"M120-120v-720h720v720H120Zm60-500h600v-160H180v160Zm220 220h160v-160H400v160Zm0 220h160v-160H400v160ZM180-400h160v-160H180v160Zm440 0h160v-160H620v160ZM180-180h160v-160H180v160Zm440 0h160v-160H620v160Z\"/>\n",
              "  </svg>\n",
              "    </button>\n",
              "\n",
              "  <style>\n",
              "    .colab-df-container {\n",
              "      display:flex;\n",
              "      gap: 12px;\n",
              "    }\n",
              "\n",
              "    .colab-df-convert {\n",
              "      background-color: #E8F0FE;\n",
              "      border: none;\n",
              "      border-radius: 50%;\n",
              "      cursor: pointer;\n",
              "      display: none;\n",
              "      fill: #1967D2;\n",
              "      height: 32px;\n",
              "      padding: 0 0 0 0;\n",
              "      width: 32px;\n",
              "    }\n",
              "\n",
              "    .colab-df-convert:hover {\n",
              "      background-color: #E2EBFA;\n",
              "      box-shadow: 0px 1px 2px rgba(60, 64, 67, 0.3), 0px 1px 3px 1px rgba(60, 64, 67, 0.15);\n",
              "      fill: #174EA6;\n",
              "    }\n",
              "\n",
              "    .colab-df-buttons div {\n",
              "      margin-bottom: 4px;\n",
              "    }\n",
              "\n",
              "    [theme=dark] .colab-df-convert {\n",
              "      background-color: #3B4455;\n",
              "      fill: #D2E3FC;\n",
              "    }\n",
              "\n",
              "    [theme=dark] .colab-df-convert:hover {\n",
              "      background-color: #434B5C;\n",
              "      box-shadow: 0px 1px 3px 1px rgba(0, 0, 0, 0.15);\n",
              "      filter: drop-shadow(0px 1px 2px rgba(0, 0, 0, 0.3));\n",
              "      fill: #FFFFFF;\n",
              "    }\n",
              "  </style>\n",
              "\n",
              "    <script>\n",
              "      const buttonEl =\n",
              "        document.querySelector('#df-932ee7f8-17c5-45cb-a839-4708d4518703 button.colab-df-convert');\n",
              "      buttonEl.style.display =\n",
              "        google.colab.kernel.accessAllowed ? 'block' : 'none';\n",
              "\n",
              "      async function convertToInteractive(key) {\n",
              "        const element = document.querySelector('#df-932ee7f8-17c5-45cb-a839-4708d4518703');\n",
              "        const dataTable =\n",
              "          await google.colab.kernel.invokeFunction('convertToInteractive',\n",
              "                                                    [key], {});\n",
              "        if (!dataTable) return;\n",
              "\n",
              "        const docLinkHtml = 'Like what you see? Visit the ' +\n",
              "          '<a target=\"_blank\" href=https://colab.research.google.com/notebooks/data_table.ipynb>data table notebook</a>'\n",
              "          + ' to learn more about interactive tables.';\n",
              "        element.innerHTML = '';\n",
              "        dataTable['output_type'] = 'display_data';\n",
              "        await google.colab.output.renderOutput(dataTable, element);\n",
              "        const docLink = document.createElement('div');\n",
              "        docLink.innerHTML = docLinkHtml;\n",
              "        element.appendChild(docLink);\n",
              "      }\n",
              "    </script>\n",
              "  </div>\n",
              "\n",
              "\n",
              "<div id=\"df-ab41b958-d5af-4d1d-8372-7baf765d4a58\">\n",
              "  <button class=\"colab-df-quickchart\" onclick=\"quickchart('df-ab41b958-d5af-4d1d-8372-7baf765d4a58')\"\n",
              "            title=\"Suggest charts\"\n",
              "            style=\"display:none;\">\n",
              "\n",
              "<svg xmlns=\"http://www.w3.org/2000/svg\" height=\"24px\"viewBox=\"0 0 24 24\"\n",
              "     width=\"24px\">\n",
              "    <g>\n",
              "        <path d=\"M19 3H5c-1.1 0-2 .9-2 2v14c0 1.1.9 2 2 2h14c1.1 0 2-.9 2-2V5c0-1.1-.9-2-2-2zM9 17H7v-7h2v7zm4 0h-2V7h2v10zm4 0h-2v-4h2v4z\"/>\n",
              "    </g>\n",
              "</svg>\n",
              "  </button>\n",
              "\n",
              "<style>\n",
              "  .colab-df-quickchart {\n",
              "      --bg-color: #E8F0FE;\n",
              "      --fill-color: #1967D2;\n",
              "      --hover-bg-color: #E2EBFA;\n",
              "      --hover-fill-color: #174EA6;\n",
              "      --disabled-fill-color: #AAA;\n",
              "      --disabled-bg-color: #DDD;\n",
              "  }\n",
              "\n",
              "  [theme=dark] .colab-df-quickchart {\n",
              "      --bg-color: #3B4455;\n",
              "      --fill-color: #D2E3FC;\n",
              "      --hover-bg-color: #434B5C;\n",
              "      --hover-fill-color: #FFFFFF;\n",
              "      --disabled-bg-color: #3B4455;\n",
              "      --disabled-fill-color: #666;\n",
              "  }\n",
              "\n",
              "  .colab-df-quickchart {\n",
              "    background-color: var(--bg-color);\n",
              "    border: none;\n",
              "    border-radius: 50%;\n",
              "    cursor: pointer;\n",
              "    display: none;\n",
              "    fill: var(--fill-color);\n",
              "    height: 32px;\n",
              "    padding: 0;\n",
              "    width: 32px;\n",
              "  }\n",
              "\n",
              "  .colab-df-quickchart:hover {\n",
              "    background-color: var(--hover-bg-color);\n",
              "    box-shadow: 0 1px 2px rgba(60, 64, 67, 0.3), 0 1px 3px 1px rgba(60, 64, 67, 0.15);\n",
              "    fill: var(--button-hover-fill-color);\n",
              "  }\n",
              "\n",
              "  .colab-df-quickchart-complete:disabled,\n",
              "  .colab-df-quickchart-complete:disabled:hover {\n",
              "    background-color: var(--disabled-bg-color);\n",
              "    fill: var(--disabled-fill-color);\n",
              "    box-shadow: none;\n",
              "  }\n",
              "\n",
              "  .colab-df-spinner {\n",
              "    border: 2px solid var(--fill-color);\n",
              "    border-color: transparent;\n",
              "    border-bottom-color: var(--fill-color);\n",
              "    animation:\n",
              "      spin 1s steps(1) infinite;\n",
              "  }\n",
              "\n",
              "  @keyframes spin {\n",
              "    0% {\n",
              "      border-color: transparent;\n",
              "      border-bottom-color: var(--fill-color);\n",
              "      border-left-color: var(--fill-color);\n",
              "    }\n",
              "    20% {\n",
              "      border-color: transparent;\n",
              "      border-left-color: var(--fill-color);\n",
              "      border-top-color: var(--fill-color);\n",
              "    }\n",
              "    30% {\n",
              "      border-color: transparent;\n",
              "      border-left-color: var(--fill-color);\n",
              "      border-top-color: var(--fill-color);\n",
              "      border-right-color: var(--fill-color);\n",
              "    }\n",
              "    40% {\n",
              "      border-color: transparent;\n",
              "      border-right-color: var(--fill-color);\n",
              "      border-top-color: var(--fill-color);\n",
              "    }\n",
              "    60% {\n",
              "      border-color: transparent;\n",
              "      border-right-color: var(--fill-color);\n",
              "    }\n",
              "    80% {\n",
              "      border-color: transparent;\n",
              "      border-right-color: var(--fill-color);\n",
              "      border-bottom-color: var(--fill-color);\n",
              "    }\n",
              "    90% {\n",
              "      border-color: transparent;\n",
              "      border-bottom-color: var(--fill-color);\n",
              "    }\n",
              "  }\n",
              "</style>\n",
              "\n",
              "  <script>\n",
              "    async function quickchart(key) {\n",
              "      const quickchartButtonEl =\n",
              "        document.querySelector('#' + key + ' button');\n",
              "      quickchartButtonEl.disabled = true;  // To prevent multiple clicks.\n",
              "      quickchartButtonEl.classList.add('colab-df-spinner');\n",
              "      try {\n",
              "        const charts = await google.colab.kernel.invokeFunction(\n",
              "            'suggestCharts', [key], {});\n",
              "      } catch (error) {\n",
              "        console.error('Error during call to suggestCharts:', error);\n",
              "      }\n",
              "      quickchartButtonEl.classList.remove('colab-df-spinner');\n",
              "      quickchartButtonEl.classList.add('colab-df-quickchart-complete');\n",
              "    }\n",
              "    (() => {\n",
              "      let quickchartButtonEl =\n",
              "        document.querySelector('#df-ab41b958-d5af-4d1d-8372-7baf765d4a58 button');\n",
              "      quickchartButtonEl.style.display =\n",
              "        google.colab.kernel.accessAllowed ? 'block' : 'none';\n",
              "    })();\n",
              "  </script>\n",
              "</div>\n",
              "    </div>\n",
              "  </div>\n"
            ]
          },
          "metadata": {},
          "execution_count": 5
        }
      ]
    },
    {
      "cell_type": "markdown",
      "source": [
        "# Features & Labels\n",
        "\n",
        "In a neural network, features and labels are key components used for training and making predictions. Features are the input variables or attributes that the neural network uses to make predictions. Labels, also known as the target variable, are the output or the variable we are trying to predict. In a regression task like predicting wage per hour, the label is typically a continuous value."
      ],
      "metadata": {
        "id": "XillL85dH-UE"
      }
    },
    {
      "cell_type": "code",
      "source": [
        "feature_columns = data.drop(columns=['wage_per_hour']).values\n",
        "label_column = data['wage_per_hour'].values"
      ],
      "metadata": {
        "id": "TH4uLqWMJT5L"
      },
      "execution_count": 6,
      "outputs": []
    },
    {
      "cell_type": "code",
      "source": [
        "from sklearn.model_selection import train_test_split\n",
        "# Split the data into training and testing sets\n",
        "# The test_size parameter specifies the proportion of the dataset to include in the test split\n",
        "# The random_state parameter allows you to set a seed for reproducibility\n",
        "X_train, X_test, y_train, y_test = train_test_split(feature_columns, label_column, test_size=0.1, random_state=42)\n",
        "\n",
        "# Now you can use X_train and y_train for training your model\n",
        "# And X_test and y_test for evaluating its performance\n"
      ],
      "metadata": {
        "id": "aT7FuZiN6MI9"
      },
      "execution_count": 7,
      "outputs": []
    },
    {
      "cell_type": "code",
      "source": [
        "inputs = tf.constant(X_train, dtype='float64')\n",
        "target = tf.constant(y_train, dtype='float64')\n",
        "inputs_test = tf.constant(X_test, dtype='float64')\n",
        "target_test = tf.constant(y_test, dtype='float64')"
      ],
      "metadata": {
        "id": "EF3lSoIIKUaI"
      },
      "execution_count": 8,
      "outputs": []
    },
    {
      "cell_type": "code",
      "source": [
        "n_cols = inputs.shape[1]"
      ],
      "metadata": {
        "id": "5BO9CcTpK3b2"
      },
      "execution_count": 9,
      "outputs": []
    },
    {
      "cell_type": "markdown",
      "source": [
        "# Building a Keras Model\n",
        "\n",
        "The core data structures of Keras are layers and models. The simplest type of model is the Sequential model, a linear stack of layers. For more complex architectures, we use the Keras functional API, which allows to build arbitrary graphs of layers, or write models entirely from scratch via subclasssing.\n",
        "\n",
        "Here is the Sequential model:"
      ],
      "metadata": {
        "id": "KUXtT3y5Hp13"
      }
    },
    {
      "cell_type": "code",
      "source": [
        "# Specify the model\n",
        "model = Sequential()\n",
        "model.add(Dense(50, activation='relu', input_shape = (n_cols,)))\n",
        "model.add(Dense(32, activation='relu'))\n",
        "model.add(Dense(1))"
      ],
      "metadata": {
        "id": "sGkw_dcSLD0B"
      },
      "execution_count": 10,
      "outputs": []
    },
    {
      "cell_type": "code",
      "source": [
        "model.summary()"
      ],
      "metadata": {
        "colab": {
          "base_uri": "https://localhost:8080/",
          "height": 0
        },
        "id": "TYsIFu6OswML",
        "outputId": "e6f9adc0-09f3-438a-f956-f42d8fa1f193"
      },
      "execution_count": 14,
      "outputs": [
        {
          "output_type": "stream",
          "name": "stdout",
          "text": [
            "Model: \"sequential\"\n",
            "_________________________________________________________________\n",
            " Layer (type)                Output Shape              Param #   \n",
            "=================================================================\n",
            " dense (Dense)               (None, 50)                500       \n",
            "                                                                 \n",
            " dense_1 (Dense)             (None, 32)                1632      \n",
            "                                                                 \n",
            " dense_2 (Dense)             (None, 1)                 33        \n",
            "                                                                 \n",
            "=================================================================\n",
            "Total params: 2165 (8.46 KB)\n",
            "Trainable params: 2165 (8.46 KB)\n",
            "Non-trainable params: 0 (0.00 Byte)\n",
            "_________________________________________________________________\n"
          ]
        }
      ]
    },
    {
      "cell_type": "markdown",
      "source": [
        "# Compile your Model\n",
        "\n",
        "A model needs to be compiled before training. We can compile our model by calling the compile method on it. The compile method receives an optimizer, which we can see as the algorithm that will be used to update our neural network weights, and a loss function, which is the function we want to minimize during training. In this case, we choose SGD as our optimizer and mean squared error as our loss function."
      ],
      "metadata": {
        "id": "VWQV48KkLU3N"
      }
    },
    {
      "cell_type": "code",
      "source": [
        "# Create learning rates: lr_to_test\n",
        "lr_to_test = 0.01\n",
        "# Create SGD optimizer with specified learning rate: my_optimizer\n",
        "my_optimizer = SGD(lr=lr_to_test)\n",
        "# Compile the model\n",
        "model.compile(optimizer= my_optimizer, loss='mean_squared_error')"
      ],
      "metadata": {
        "colab": {
          "base_uri": "https://localhost:8080/",
          "height": 0
        },
        "id": "4VyuP-9NLKz_",
        "outputId": "54a9e41d-97df-4138-f5e7-2d40d682920b"
      },
      "execution_count": 11,
      "outputs": [
        {
          "output_type": "stream",
          "name": "stderr",
          "text": [
            "WARNING:absl:`lr` is deprecated in Keras optimizer, please use `learning_rate` or use the legacy optimizer, e.g.,tf.keras.optimizers.legacy.SGD.\n"
          ]
        }
      ]
    },
    {
      "cell_type": "code",
      "source": [
        "# Define early_stopping_monitor\n",
        "early_stopping_monitor = EarlyStopping(patience = 2)"
      ],
      "metadata": {
        "id": "1bPopamgeCbS"
      },
      "execution_count": 12,
      "outputs": []
    },
    {
      "cell_type": "markdown",
      "source": [
        "# No train no Model\n",
        "\n",
        "Creating a model is useless if we don't train it. We train our model by calling the fit method and passing the features, the labels and the number of epochs to train for. During an epoch, our entire training data passes through the network and the respective weight updates take place using back-propagation. As our model is being trained, we will get some output showing its progress. We can see the model is improving since the mean squared error loss is decreasing at each epoch."
      ],
      "metadata": {
        "id": "H0JacFrLL8UI"
      }
    },
    {
      "cell_type": "code",
      "source": [
        "# Fit the model\n",
        "model.fit(inputs, target, validation_split = 0.1, callbacks = [early_stopping_monitor], epochs=10)"
      ],
      "metadata": {
        "colab": {
          "base_uri": "https://localhost:8080/",
          "height": 0
        },
        "id": "R3C0gLrTLOOi",
        "outputId": "9055b3e8-752b-4d7b-b93e-7fc6fae32b93"
      },
      "execution_count": 13,
      "outputs": [
        {
          "output_type": "stream",
          "name": "stdout",
          "text": [
            "Epoch 1/10\n",
            "14/14 [==============================] - 2s 41ms/step - loss: 8278569270216069915853530857472.0000 - val_loss: 29749199345411966034717442048.0000\n",
            "Epoch 2/10\n",
            "14/14 [==============================] - 0s 8ms/step - loss: 23389470343769343084302696448.0000 - val_loss: 16896833879241216121582387200.0000\n",
            "Epoch 3/10\n",
            "14/14 [==============================] - 0s 12ms/step - loss: 13284659158153982257875910656.0000 - val_loss: 9596997999133887474134155264.0000\n",
            "Epoch 4/10\n",
            "14/14 [==============================] - 0s 9ms/step - loss: 7545369422426032263277838336.0000 - val_loss: 5450865299828582826115072000.0000\n",
            "Epoch 5/10\n",
            "14/14 [==============================] - 0s 11ms/step - loss: 4285589494206738499530391552.0000 - val_loss: 3095962215520166488695635968.0000\n",
            "Epoch 6/10\n",
            "14/14 [==============================] - 0s 12ms/step - loss: 2434113255786972562382127104.0000 - val_loss: 1758432927347311214266941440.0000\n",
            "Epoch 7/10\n",
            "14/14 [==============================] - 0s 10ms/step - loss: 1382518683359344025673924608.0000 - val_loss: 998748413792241708076892160.0000\n",
            "Epoch 8/10\n",
            "14/14 [==============================] - 0s 14ms/step - loss: 785237828889687515147010048.0000 - val_loss: 567265419317560750710456320.0000\n",
            "Epoch 9/10\n",
            "14/14 [==============================] - 0s 11ms/step - loss: 445996486883506010967769088.0000 - val_loss: 322193230068140610766766080.0000\n",
            "Epoch 10/10\n",
            "14/14 [==============================] - 0s 11ms/step - loss: 253315375093174285017022464.0000 - val_loss: 182998102231392329245130752.0000\n"
          ]
        },
        {
          "output_type": "execute_result",
          "data": {
            "text/plain": [
              "<keras.src.callbacks.History at 0x7e78cc38de40>"
            ]
          },
          "metadata": {},
          "execution_count": 13
        }
      ]
    },
    {
      "cell_type": "markdown",
      "source": [
        "# A callback you've been missing\n",
        "\n",
        "Every time you call the fit method on a keras model there's a callback object that gets returned after the model finishes training. This is the history object. Accessing the history attribute, which is a python dictionary, we can check the saved metrics of the model during training as an array of numbers.\n",
        "\n",
        "To get the most out of the history object we should use the validation_data parameter in our fit method, passing input_test and label_test as a tuple. The validation_split parameter can be used instead, specifying a percentage of the training data that will be left out for testing purposes. That way we not only have the training metrics but also the validation metrics."
      ],
      "metadata": {
        "id": "QgFXuSSNRBEw"
      }
    },
    {
      "cell_type": "code",
      "source": [
        "print(h_callback.history.keys())"
      ],
      "metadata": {
        "colab": {
          "base_uri": "https://localhost:8080/",
          "height": 0
        },
        "id": "DljKofWnTWEO",
        "outputId": "4a913e76-0eee-4d47-9e5f-ca66512febb8"
      },
      "execution_count": 32,
      "outputs": [
        {
          "output_type": "stream",
          "name": "stdout",
          "text": [
            "dict_keys(['loss', 'val_loss'])\n"
          ]
        }
      ]
    },
    {
      "cell_type": "code",
      "source": [
        "def plot_loss(loss,val_loss):\n",
        "  plt.figure()\n",
        "  plt.plot(loss)\n",
        "  plt.plot(val_loss)\n",
        "  plt.title('Model loss')\n",
        "  plt.ylabel('Loss')\n",
        "  plt.xlabel('Epoch')\n",
        "  plt.legend(['Train', 'Test'], loc='upper right')\n",
        "  plt.show()"
      ],
      "metadata": {
        "id": "FYYjjGWoRLFN"
      },
      "execution_count": 18,
      "outputs": []
    },
    {
      "cell_type": "markdown",
      "source": [
        "# Loss curve\n",
        "\n",
        "Loss tends to decrease as epochs go by. This is expected since our model is essentially learning to minimize the loss function. Epochs are shown on the X axis and loss on the Y-axis. As epochs go by our loss value decreases. After a certain amount of epochs, the value converges, meaning it no longer gets much lower than that. We've arrived at a minimum."
      ],
      "metadata": {
        "id": "J6wmAuSfV935"
      }
    },
    {
      "cell_type": "code",
      "source": [
        "# Train your model and save its history\n",
        "h_callback = model.fit(inputs, target, epochs = 10,\n",
        "                    validation_data=(inputs_test, target_test))\n",
        "\n",
        "# Plot train vs test loss during training\n",
        "plot_loss(h_callback.history['loss'], h_callback.history['val_loss'])"
      ],
      "metadata": {
        "colab": {
          "base_uri": "https://localhost:8080/",
          "height": 819
        },
        "id": "l4KY7fEERBgx",
        "outputId": "68724573-a21c-48f5-d8df-52a72f11da13"
      },
      "execution_count": 21,
      "outputs": [
        {
          "output_type": "stream",
          "name": "stdout",
          "text": [
            "Epoch 1/10\n",
            "15/15 [==============================] - 0s 12ms/step - loss: 326611781558420021182464.0000 - val_loss: 232836857339792041443328.0000\n",
            "Epoch 2/10\n",
            "15/15 [==============================] - 0s 6ms/step - loss: 178161626639640914034688.0000 - val_loss: 127008868373639110590464.0000\n",
            "Epoch 3/10\n",
            "15/15 [==============================] - 0s 6ms/step - loss: 97184365309329558994944.0000 - val_loss: 69281327529637256888320.0000\n",
            "Epoch 4/10\n",
            "15/15 [==============================] - 0s 7ms/step - loss: 53012537746522959249408.0000 - val_loss: 37791875208286224515072.0000\n",
            "Epoch 5/10\n",
            "15/15 [==============================] - 0s 8ms/step - loss: 28917507372754711609344.0000 - val_loss: 20614869258118069485568.0000\n",
            "Epoch 6/10\n",
            "15/15 [==============================] - 0s 6ms/step - loss: 15774042342449884430336.0000 - val_loss: 11245086323277385695232.0000\n",
            "Epoch 7/10\n",
            "15/15 [==============================] - 0s 7ms/step - loss: 8604492442611103039488.0000 - val_loss: 6134020349018880606208.0000\n",
            "Epoch 8/10\n",
            "15/15 [==============================] - 0s 5ms/step - loss: 4693616628748418809856.0000 - val_loss: 3346012112074716479488.0000\n",
            "Epoch 9/10\n",
            "15/15 [==============================] - 0s 8ms/step - loss: 2560294699310266712064.0000 - val_loss: 1825197183407507898368.0000\n",
            "Epoch 10/10\n",
            "15/15 [==============================] - 0s 5ms/step - loss: 1396600443657261154304.0000 - val_loss: 995616469491073941504.0000\n"
          ]
        },
        {
          "output_type": "display_data",
          "data": {
            "text/plain": [
              "<Figure size 640x480 with 1 Axes>"
            ],
            "image/png": "[encoded data removed]"
          },
          "metadata": {}
        }
      ]
    },
    {
      "cell_type": "markdown",
      "source": [
        "# Is the model overfitting?\n",
        "\n",
        "If we plot training versus validation data we can identify overfitting. We will see the training and validation curves start to diverge. Overfitting is when our model starts learning particularities of our training data which don't generalize well on unseen data. The early stopping callback is useful to stop our model before it starts overfitting. For our model we can see that training and validation curves are always close to each other. Which means there is no overfitting in this model."
      ],
      "metadata": {
        "id": "8uEjEyAeW8ak"
      }
    },
    {
      "cell_type": "markdown",
      "source": [
        "# Predicting\n",
        "\n",
        "To obtain predictions from our trained model we just need to call predict on the new set of data. We can store the predictions in a variable for later use. The predictions are just numbers in a numpy array, we will interpret these depending on our dataset and problem at hand."
      ],
      "metadata": {
        "id": "69wnQQ1NMxI4"
      }
    },
    {
      "cell_type": "code",
      "source": [
        "# Predict on new data\n",
        "preds = model.predict(inputs_test)"
      ],
      "metadata": {
        "colab": {
          "base_uri": "https://localhost:8080/",
          "height": 0
        },
        "id": "doR3jb_U07Fe",
        "outputId": "434712bc-f71d-4613-9d6c-c7cb94030aaf"
      },
      "execution_count": 15,
      "outputs": [
        {
          "output_type": "stream",
          "name": "stdout",
          "text": [
            "2/2 [==============================] - 0s 7ms/step\n"
          ]
        }
      ]
    },
    {
      "cell_type": "markdown",
      "source": [
        "# Evaluating\n",
        "\n",
        "To quickly evaluate how well our model performs on unseen data we can use the model's evaluate method. This performs feed-forward with all samples in our test dataset (inputs_test). Feed-forward consists in computing a model's outputs from a given set of inputs. It then computes the error comparing the results to the true values stored in target_test. In this particular case, the model we trained for 10 epochs before, has a mean squared error of 1.82. Wich is Pretty good if you ask me."
      ],
      "metadata": {
        "id": "m4_LP8DTM5po"
      }
    },
    {
      "cell_type": "code",
      "source": [
        "# Evaluate your results\n",
        "model.evaluate(inputs_test, target_test)"
      ],
      "metadata": {
        "colab": {
          "base_uri": "https://localhost:8080/",
          "height": 0
        },
        "id": "BLeXUX-774j2",
        "outputId": "5fa5c787-4124-4f9c-9022-c9502a511662"
      },
      "execution_count": 16,
      "outputs": [
        {
          "output_type": "stream",
          "name": "stdout",
          "text": [
            "2/2 [==============================] - 0s 13ms/step - loss: 182998102231392329245130752.0000\n"
          ]
        },
        {
          "output_type": "execute_result",
          "data": {
            "text/plain": [
              "1.8299810223139233e+26"
            ]
          },
          "metadata": {},
          "execution_count": 16
        }
      ]
    }
  ]
}