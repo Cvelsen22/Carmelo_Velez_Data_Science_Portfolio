{
  "cells": [
    {
      "cell_type": "markdown",
      "metadata": {
        "id": "view-in-github",
        "colab_type": "text"
      },
      "source": [
        "<a href=\"https://colab.research.google.com/github/Cvelsen22/Carmelo-Velez---Data-Analysis-Portfolio/blob/main/SQL_analysis_international_debt_TheWorldBank_.ipynb\" target=\"_parent\"><img src=\"https://colab.research.google.com/assets/colab-badge.svg\" alt=\"Open In Colab\"/></a>"
      ]
    },
    {
      "metadata": {
        "dc": {
          "key": "4"
        },
        "deletable": false,
        "editable": false,
        "run_control": {
          "frozen": true
        },
        "tags": [
          "context"
        ],
        "id": "1b7CT_g47nui"
      },
      "cell_type": "markdown",
      "source": [
        "## 1. The World Bank's international debt data\n",
        "<p>In this notebook, we are going to analyze international debt data collected by The World Bank. The dataset contains information about the amount of debt (in USD) owed by developing countries across several categories."
      ]
    },
    {
      "metadata": {
        "dc": {
          "key": "4"
        },
        "tags": [
          "sample_code"
        ],
        "trusted": false,
        "collapsed": true,
        "colab": {
          "base_uri": "https://localhost:8080/"
        },
        "id": "MemcSnYF7num",
        "outputId": "6d255226-8000-4bfc-aa80-d8aebed5a33c"
      },
      "cell_type": "code",
      "source": [
        "%%sql\n",
        "postgresql:///international_debt\n",
        "\n",
        "SELECT *\n",
        "FROM international_debt\n",
        "LIMIT 10;\n",
        "\n"
      ],
      "execution_count": null,
      "outputs": [
        {
          "output_type": "stream",
          "name": "stderr",
          "text": [
            "UsageError: Cell magic `%%sql` not found.\n"
          ]
        }
      ]
    },
    {
      "metadata": {
        "dc": {
          "key": "12"
        },
        "deletable": false,
        "editable": false,
        "run_control": {
          "frozen": true
        },
        "tags": [
          "context"
        ],
        "id": "7cvUghxV7nun"
      },
      "cell_type": "markdown",
      "source": [
        "## 2. Finding the number of distinct countries"
      ]
    },
    {
      "metadata": {
        "dc": {
          "key": "12"
        },
        "tags": [
          "sample_code"
        ],
        "trusted": false,
        "collapsed": true,
        "colab": {
          "base_uri": "https://localhost:8080/"
        },
        "id": "nLFa-Gs67nun",
        "outputId": "980f2a6b-b7db-4cfb-f5bb-017c8853ca7b"
      },
      "cell_type": "code",
      "source": [
        "%%sql\n",
        "SELECT\n",
        "    COUNT(DISTINCT country_name) AS total_distinct_countries\n",
        "FROM international_debt;"
      ],
      "execution_count": null,
      "outputs": [
        {
          "output_type": "stream",
          "name": "stderr",
          "text": [
            "UsageError: Cell magic `%%sql` not found.\n"
          ]
        }
      ]
    },
    {
      "metadata": {
        "dc": {
          "key": "20"
        },
        "deletable": false,
        "editable": false,
        "run_control": {
          "frozen": true
        },
        "tags": [
          "context"
        ],
        "id": "IxC1kc357nuo"
      },
      "cell_type": "markdown",
      "source": [
        "## 3. Finding out the distinct debt indicators"
      ]
    },
    {
      "metadata": {
        "dc": {
          "key": "20"
        },
        "tags": [
          "sample_code"
        ],
        "trusted": false,
        "collapsed": true,
        "colab": {
          "base_uri": "https://localhost:8080/"
        },
        "id": "pii7vX_x7nuo",
        "outputId": "b0971b63-f0e1-46da-99a4-4fb885f62ee8"
      },
      "cell_type": "code",
      "source": [
        "%%sql\n",
        "SELECT\n",
        "    DISTINCT indicator_code AS distinct_debt_indicators\n",
        "FROM international_debt\n",
        "ORDER BY distinct_debt_indicators;\n"
      ],
      "execution_count": null,
      "outputs": [
        {
          "output_type": "stream",
          "name": "stderr",
          "text": [
            "UsageError: Cell magic `%%sql` not found.\n"
          ]
        }
      ]
    },
    {
      "metadata": {
        "dc": {
          "key": "28"
        },
        "deletable": false,
        "editable": false,
        "run_control": {
          "frozen": true
        },
        "tags": [
          "context"
        ],
        "id": "KJoORJsa7nuo"
      },
      "cell_type": "markdown",
      "source": [
        "## 4. Totaling the amount of debt owed by the countries"
      ]
    },
    {
      "metadata": {
        "dc": {
          "key": "28"
        },
        "tags": [
          "sample_code"
        ],
        "trusted": false,
        "collapsed": true,
        "id": "qxQgKvic7nup"
      },
      "cell_type": "code",
      "source": [
        "%%sql\n",
        "SELECT\n",
        "    ROUND(SUM(debt)/1000000, 2) AS total_debt\n",
        "FROM international_debt;"
      ],
      "execution_count": null,
      "outputs": []
    },
    {
      "metadata": {
        "dc": {
          "key": "36"
        },
        "deletable": false,
        "editable": false,
        "run_control": {
          "frozen": true
        },
        "tags": [
          "context"
        ],
        "id": "Vi-_t5dP7nup"
      },
      "cell_type": "markdown",
      "source": [
        "## 5. Country with the highest debt"
      ]
    },
    {
      "metadata": {
        "dc": {
          "key": "36"
        },
        "tags": [
          "sample_code"
        ],
        "trusted": false,
        "collapsed": true,
        "id": "CVkuEgWC7nup"
      },
      "cell_type": "code",
      "source": [
        "%%sql\n",
        "SELECT\n",
        "    country_name,\n",
        "    SUM(debt) AS total_debt\n",
        "FROM international_debt\n",
        "GROUP BY country_name\n",
        "ORDER BY total_debt DESC\n",
        "LIMIT 1;"
      ],
      "execution_count": null,
      "outputs": []
    },
    {
      "metadata": {
        "dc": {
          "key": "44"
        },
        "deletable": false,
        "editable": false,
        "run_control": {
          "frozen": true
        },
        "tags": [
          "context"
        ],
        "id": "WbRf6rqP7nuq"
      },
      "cell_type": "markdown",
      "source": [
        "## 6. Average amount of debt across indicators"
      ]
    },
    {
      "metadata": {
        "dc": {
          "key": "44"
        },
        "tags": [
          "sample_code"
        ],
        "trusted": false,
        "collapsed": true,
        "id": "X4mSE0cH7nuq"
      },
      "cell_type": "code",
      "source": [
        "%%sql\n",
        "SELECT\n",
        "    indicator_code AS debt_indicator,\n",
        "    indicator_name,\n",
        "    AVG(debt) AS average_debt\n",
        "FROM international_debt\n",
        "GROUP BY debt_indicator, indicator_name\n",
        "ORDER BY average_debt DESC\n",
        "LIMIT 10;"
      ],
      "execution_count": null,
      "outputs": []
    },
    {
      "metadata": {
        "dc": {
          "key": "52"
        },
        "deletable": false,
        "editable": false,
        "run_control": {
          "frozen": true
        },
        "tags": [
          "context"
        ],
        "id": "-0rikQYt7nuq"
      },
      "cell_type": "markdown",
      "source": [
        "## 7. The highest amount of principal repayments"
      ]
    },
    {
      "metadata": {
        "dc": {
          "key": "52"
        },
        "tags": [
          "sample_code"
        ],
        "trusted": false,
        "collapsed": true,
        "id": "gtYWtG5m7nuq"
      },
      "cell_type": "code",
      "source": [
        "%%sql\n",
        "SELECT\n",
        "    country_name,\n",
        "    indicator_name\n",
        "FROM international_debt\n",
        "WHERE debt = (SELECT\n",
        "                  MAX(debt)\n",
        "              FROM international_debt\n",
        "              WHERE indicator_code='DT.AMT.DLXF.CD');"
      ],
      "execution_count": null,
      "outputs": []
    },
    {
      "metadata": {
        "dc": {
          "key": "60"
        },
        "deletable": false,
        "editable": false,
        "run_control": {
          "frozen": true
        },
        "tags": [
          "context"
        ],
        "id": "flts6OlQ7nuq"
      },
      "cell_type": "markdown",
      "source": [
        "## 8. The most common debt indicator"
      ]
    },
    {
      "metadata": {
        "dc": {
          "key": "60"
        },
        "tags": [
          "sample_code"
        ],
        "trusted": false,
        "collapsed": true,
        "id": "VKxZcl8z7nuq"
      },
      "cell_type": "code",
      "source": [
        "%%sql\n",
        "SELECT\n",
        "    indicator_code,\n",
        "    COUNT(indicator_code) AS indicator_count\n",
        "FROM international_debt\n",
        "GROUP BY indicator_code\n",
        "ORDER BY indicator_count DESC, indicator_code DESC\n",
        "LIMIT 20;\n"
      ],
      "execution_count": null,
      "outputs": []
    },
    {
      "metadata": {
        "dc": {
          "key": "68"
        },
        "deletable": false,
        "editable": false,
        "run_control": {
          "frozen": true
        },
        "tags": [
          "context"
        ],
        "id": "T1yQgS9n7nur"
      },
      "cell_type": "markdown",
      "source": [
        "## 9. Conclusion\n",
        "<p>There are a total of six debt indicators in which all the countries listed in our dataset have taken debt. The indicator <code>DT.AMT.DLXF.CD</code> is also there in the list. So, this gives us a clue that all these countries are suffering from a common economic issue.</p>\n",
        "\n",
        "<p>In this notebook, we took a look at debt owed by countries across the globe. We extracted a few summary statistics from the data and unraveled some interesting facts and figures. We also validated our findings to make sure the investigations are correct.</p>"
      ]
    },
    {
      "metadata": {
        "dc": {
          "key": "68"
        },
        "tags": [
          "sample_code"
        ],
        "trusted": false,
        "collapsed": true,
        "id": "xYHnEmig7nur"
      },
      "cell_type": "code",
      "source": [
        "%%sql\n",
        "SELECT\n",
        "    country_name,\n",
        "    MAX(debt) AS maximum_debt\n",
        "FROM international_debt\n",
        "GROUP BY country_name"
      ],
      "execution_count": null,
      "outputs": []
    }
  ],
  "metadata": {
    "kernelspec": {
      "name": "python3",
      "display_name": "Python 3",
      "language": "python"
    },
    "language_info": {
      "name": "python",
      "version": "3.6.7",
      "mimetype": "text/x-python",
      "codemirror_mode": {
        "name": "ipython",
        "version": 3
      },
      "pygments_lexer": "ipython3",
      "nbconvert_exporter": "python",
      "file_extension": ".py"
    },
    "colab": {
      "provenance": [],
      "include_colab_link": true
    }
  },
  "nbformat": 4,
  "nbformat_minor": 0
}