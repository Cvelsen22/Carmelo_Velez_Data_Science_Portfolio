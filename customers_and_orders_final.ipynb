{
  "nbformat": 4,
  "nbformat_minor": 0,
  "metadata": {
    "colab": {
      "provenance": [],
      "authorship_tag": "ABX9TyNkpySE0nzjNz9lWpfcSwOV",
      "include_colab_link": true
    },
    "kernelspec": {
      "name": "python3",
      "display_name": "Python 3"
    },
    "language_info": {
      "name": "python"
    }
  },
  "cells": [
    {
      "cell_type": "markdown",
      "metadata": {
        "id": "view-in-github",
        "colab_type": "text"
      },
      "source": [
        "<a href=\"https://colab.research.google.com/github/Cvelsen22/Carmelo-Velez---Data-Analysis-Portfolio/blob/main/customers_and_orders_final.ipynb\" target=\"_parent\"><img src=\"https://colab.research.google.com/assets/colab-badge.svg\" alt=\"Open In Colab\"/></a>"
      ]
    },
    {
      "cell_type": "markdown",
      "source": [
        "# Technical Challenge ! Custiomers and Orders - The lifeblood of any business!"
      ],
      "metadata": {
        "id": "NcibFmsY5IPc"
      }
    },
    {
      "cell_type": "code",
      "execution_count": 168,
      "metadata": {
        "id": "SCb8Bn39xEB_"
      },
      "outputs": [],
      "source": [
        "#libraries\n",
        "import pandas as pd\n",
        "import numpy as np\n",
        "import matplotlib.pyplot as plt\n",
        "import seaborn as sns\n",
        "from urllib.request import urlretrieve"
      ]
    },
    {
      "cell_type": "code",
      "source": [
        "# Assign url of file: url\n",
        "url_1='https://raw.githubusercontent.com/anyoneai/notebooks/main/customers_and_orders/data/orders.csv'\n",
        "# Save file locally\n",
        "urlretrieve(url_1,'orders.csv')\n",
        "# Read file into a DataFrame and print its head\n",
        "orders = pd.read_csv('orders.csv', sep=',')\n",
        "orders.head()"
      ],
      "metadata": {
        "colab": {
          "base_uri": "https://localhost:8080/",
          "height": 206
        },
        "id": "8QlGDCo12AvR",
        "outputId": "10a9a348-bad8-4ddd-ed04-7c3eb808e10a"
      },
      "execution_count": 169,
      "outputs": [
        {
          "output_type": "execute_result",
          "data": {
            "text/plain": [
              "   CustomerID  OrderID                     Date  OrderTotal ProductName  Price\n",
              "0        8091  7742581  2021-07-26 14:40:10.783        95.0         Z03   90.0\n",
              "1      902139  7742778  2021-08-08 05:01:21.120        60.0    0844 A/C   60.0\n",
              "2     2300266  7742593  2021-07-27 11:00:16.020       185.0         M07   90.0\n",
              "3     2300266  7742593  2021-07-27 11:00:16.020       185.0         M09   90.0\n",
              "4     5173013  7742609  2021-07-28 14:26:13.930       165.0        0324  160.0"
            ],
            "text/html": [
              "\n",
              "  <div id=\"df-335242ca-abf5-4ec9-9f93-8c7384ae9fa5\">\n",
              "    <div class=\"colab-df-container\">\n",
              "      <div>\n",
              "<style scoped>\n",
              "    .dataframe tbody tr th:only-of-type {\n",
              "        vertical-align: middle;\n",
              "    }\n",
              "\n",
              "    .dataframe tbody tr th {\n",
              "        vertical-align: top;\n",
              "    }\n",
              "\n",
              "    .dataframe thead th {\n",
              "        text-align: right;\n",
              "    }\n",
              "</style>\n",
              "<table border=\"1\" class=\"dataframe\">\n",
              "  <thead>\n",
              "    <tr style=\"text-align: right;\">\n",
              "      <th></th>\n",
              "      <th>CustomerID</th>\n",
              "      <th>OrderID</th>\n",
              "      <th>Date</th>\n",
              "      <th>OrderTotal</th>\n",
              "      <th>ProductName</th>\n",
              "      <th>Price</th>\n",
              "    </tr>\n",
              "  </thead>\n",
              "  <tbody>\n",
              "    <tr>\n",
              "      <th>0</th>\n",
              "      <td>8091</td>\n",
              "      <td>7742581</td>\n",
              "      <td>2021-07-26 14:40:10.783</td>\n",
              "      <td>95.0</td>\n",
              "      <td>Z03</td>\n",
              "      <td>90.0</td>\n",
              "    </tr>\n",
              "    <tr>\n",
              "      <th>1</th>\n",
              "      <td>902139</td>\n",
              "      <td>7742778</td>\n",
              "      <td>2021-08-08 05:01:21.120</td>\n",
              "      <td>60.0</td>\n",
              "      <td>0844 A/C</td>\n",
              "      <td>60.0</td>\n",
              "    </tr>\n",
              "    <tr>\n",
              "      <th>2</th>\n",
              "      <td>2300266</td>\n",
              "      <td>7742593</td>\n",
              "      <td>2021-07-27 11:00:16.020</td>\n",
              "      <td>185.0</td>\n",
              "      <td>M07</td>\n",
              "      <td>90.0</td>\n",
              "    </tr>\n",
              "    <tr>\n",
              "      <th>3</th>\n",
              "      <td>2300266</td>\n",
              "      <td>7742593</td>\n",
              "      <td>2021-07-27 11:00:16.020</td>\n",
              "      <td>185.0</td>\n",
              "      <td>M09</td>\n",
              "      <td>90.0</td>\n",
              "    </tr>\n",
              "    <tr>\n",
              "      <th>4</th>\n",
              "      <td>5173013</td>\n",
              "      <td>7742609</td>\n",
              "      <td>2021-07-28 14:26:13.930</td>\n",
              "      <td>165.0</td>\n",
              "      <td>0324</td>\n",
              "      <td>160.0</td>\n",
              "    </tr>\n",
              "  </tbody>\n",
              "</table>\n",
              "</div>\n",
              "      <button class=\"colab-df-convert\" onclick=\"convertToInteractive('df-335242ca-abf5-4ec9-9f93-8c7384ae9fa5')\"\n",
              "              title=\"Convert this dataframe to an interactive table.\"\n",
              "              style=\"display:none;\">\n",
              "        \n",
              "  <svg xmlns=\"http://www.w3.org/2000/svg\" height=\"24px\"viewBox=\"0 0 24 24\"\n",
              "       width=\"24px\">\n",
              "    <path d=\"M0 0h24v24H0V0z\" fill=\"none\"/>\n",
              "    <path d=\"M18.56 5.44l.94 2.06.94-2.06 2.06-.94-2.06-.94-.94-2.06-.94 2.06-2.06.94zm-11 1L8.5 8.5l.94-2.06 2.06-.94-2.06-.94L8.5 2.5l-.94 2.06-2.06.94zm10 10l.94 2.06.94-2.06 2.06-.94-2.06-.94-.94-2.06-.94 2.06-2.06.94z\"/><path d=\"M17.41 7.96l-1.37-1.37c-.4-.4-.92-.59-1.43-.59-.52 0-1.04.2-1.43.59L10.3 9.45l-7.72 7.72c-.78.78-.78 2.05 0 2.83L4 21.41c.39.39.9.59 1.41.59.51 0 1.02-.2 1.41-.59l7.78-7.78 2.81-2.81c.8-.78.8-2.07 0-2.86zM5.41 20L4 18.59l7.72-7.72 1.47 1.35L5.41 20z\"/>\n",
              "  </svg>\n",
              "      </button>\n",
              "      \n",
              "  <style>\n",
              "    .colab-df-container {\n",
              "      display:flex;\n",
              "      flex-wrap:wrap;\n",
              "      gap: 12px;\n",
              "    }\n",
              "\n",
              "    .colab-df-convert {\n",
              "      background-color: #E8F0FE;\n",
              "      border: none;\n",
              "      border-radius: 50%;\n",
              "      cursor: pointer;\n",
              "      display: none;\n",
              "      fill: #1967D2;\n",
              "      height: 32px;\n",
              "      padding: 0 0 0 0;\n",
              "      width: 32px;\n",
              "    }\n",
              "\n",
              "    .colab-df-convert:hover {\n",
              "      background-color: #E2EBFA;\n",
              "      box-shadow: 0px 1px 2px rgba(60, 64, 67, 0.3), 0px 1px 3px 1px rgba(60, 64, 67, 0.15);\n",
              "      fill: #174EA6;\n",
              "    }\n",
              "\n",
              "    [theme=dark] .colab-df-convert {\n",
              "      background-color: #3B4455;\n",
              "      fill: #D2E3FC;\n",
              "    }\n",
              "\n",
              "    [theme=dark] .colab-df-convert:hover {\n",
              "      background-color: #434B5C;\n",
              "      box-shadow: 0px 1px 3px 1px rgba(0, 0, 0, 0.15);\n",
              "      filter: drop-shadow(0px 1px 2px rgba(0, 0, 0, 0.3));\n",
              "      fill: #FFFFFF;\n",
              "    }\n",
              "  </style>\n",
              "\n",
              "      <script>\n",
              "        const buttonEl =\n",
              "          document.querySelector('#df-335242ca-abf5-4ec9-9f93-8c7384ae9fa5 button.colab-df-convert');\n",
              "        buttonEl.style.display =\n",
              "          google.colab.kernel.accessAllowed ? 'block' : 'none';\n",
              "\n",
              "        async function convertToInteractive(key) {\n",
              "          const element = document.querySelector('#df-335242ca-abf5-4ec9-9f93-8c7384ae9fa5');\n",
              "          const dataTable =\n",
              "            await google.colab.kernel.invokeFunction('convertToInteractive',\n",
              "                                                     [key], {});\n",
              "          if (!dataTable) return;\n",
              "\n",
              "          const docLinkHtml = 'Like what you see? Visit the ' +\n",
              "            '<a target=\"_blank\" href=https://colab.research.google.com/notebooks/data_table.ipynb>data table notebook</a>'\n",
              "            + ' to learn more about interactive tables.';\n",
              "          element.innerHTML = '';\n",
              "          dataTable['output_type'] = 'display_data';\n",
              "          await google.colab.output.renderOutput(dataTable, element);\n",
              "          const docLink = document.createElement('div');\n",
              "          docLink.innerHTML = docLinkHtml;\n",
              "          element.appendChild(docLink);\n",
              "        }\n",
              "      </script>\n",
              "    </div>\n",
              "  </div>\n",
              "  "
            ]
          },
          "metadata": {},
          "execution_count": 169
        }
      ]
    },
    {
      "cell_type": "code",
      "source": [
        "# Assign url of file: url\n",
        "url_2='https://raw.githubusercontent.com/anyoneai/notebooks/main/customers_and_orders/data/customers.csv'\n",
        "# Save file locally\n",
        "urlretrieve(url_2,'customers.csv')\n",
        "# Read file into a DataFrame and print its head\n",
        "customers = pd.read_csv('customers.csv', sep=',')\n",
        "customers.head()"
      ],
      "metadata": {
        "colab": {
          "base_uri": "https://localhost:8080/",
          "height": 206
        },
        "id": "VPQSev-S3foi",
        "outputId": "dba0cc62-fe38-4efd-f81c-c276f43c0a5e"
      },
      "execution_count": 170,
      "outputs": [
        {
          "output_type": "execute_result",
          "data": {
            "text/plain": [
              "   CustomerID    FirstName      LastName         City State\n",
              "0        6192        Randi    Piedrahita  Canoga Park    CA\n",
              "1     5100595  Christopher       Abraham   Loma Linda    CA\n",
              "2     1902451        Elvis      Jauregui  Los Angeles    CA\n",
              "3     1906377         Jose  Mota-Sanchez       Downey    CA\n",
              "4     1902406      Scott        McCrorie   Long Beach    CA"
            ],
            "text/html": [
              "\n",
              "  <div id=\"df-e097611e-ad09-4d09-b84e-b328e710df3e\">\n",
              "    <div class=\"colab-df-container\">\n",
              "      <div>\n",
              "<style scoped>\n",
              "    .dataframe tbody tr th:only-of-type {\n",
              "        vertical-align: middle;\n",
              "    }\n",
              "\n",
              "    .dataframe tbody tr th {\n",
              "        vertical-align: top;\n",
              "    }\n",
              "\n",
              "    .dataframe thead th {\n",
              "        text-align: right;\n",
              "    }\n",
              "</style>\n",
              "<table border=\"1\" class=\"dataframe\">\n",
              "  <thead>\n",
              "    <tr style=\"text-align: right;\">\n",
              "      <th></th>\n",
              "      <th>CustomerID</th>\n",
              "      <th>FirstName</th>\n",
              "      <th>LastName</th>\n",
              "      <th>City</th>\n",
              "      <th>State</th>\n",
              "    </tr>\n",
              "  </thead>\n",
              "  <tbody>\n",
              "    <tr>\n",
              "      <th>0</th>\n",
              "      <td>6192</td>\n",
              "      <td>Randi</td>\n",
              "      <td>Piedrahita</td>\n",
              "      <td>Canoga Park</td>\n",
              "      <td>CA</td>\n",
              "    </tr>\n",
              "    <tr>\n",
              "      <th>1</th>\n",
              "      <td>5100595</td>\n",
              "      <td>Christopher</td>\n",
              "      <td>Abraham</td>\n",
              "      <td>Loma Linda</td>\n",
              "      <td>CA</td>\n",
              "    </tr>\n",
              "    <tr>\n",
              "      <th>2</th>\n",
              "      <td>1902451</td>\n",
              "      <td>Elvis</td>\n",
              "      <td>Jauregui</td>\n",
              "      <td>Los Angeles</td>\n",
              "      <td>CA</td>\n",
              "    </tr>\n",
              "    <tr>\n",
              "      <th>3</th>\n",
              "      <td>1906377</td>\n",
              "      <td>Jose</td>\n",
              "      <td>Mota-Sanchez</td>\n",
              "      <td>Downey</td>\n",
              "      <td>CA</td>\n",
              "    </tr>\n",
              "    <tr>\n",
              "      <th>4</th>\n",
              "      <td>1902406</td>\n",
              "      <td>Scott</td>\n",
              "      <td>McCrorie</td>\n",
              "      <td>Long Beach</td>\n",
              "      <td>CA</td>\n",
              "    </tr>\n",
              "  </tbody>\n",
              "</table>\n",
              "</div>\n",
              "      <button class=\"colab-df-convert\" onclick=\"convertToInteractive('df-e097611e-ad09-4d09-b84e-b328e710df3e')\"\n",
              "              title=\"Convert this dataframe to an interactive table.\"\n",
              "              style=\"display:none;\">\n",
              "        \n",
              "  <svg xmlns=\"http://www.w3.org/2000/svg\" height=\"24px\"viewBox=\"0 0 24 24\"\n",
              "       width=\"24px\">\n",
              "    <path d=\"M0 0h24v24H0V0z\" fill=\"none\"/>\n",
              "    <path d=\"M18.56 5.44l.94 2.06.94-2.06 2.06-.94-2.06-.94-.94-2.06-.94 2.06-2.06.94zm-11 1L8.5 8.5l.94-2.06 2.06-.94-2.06-.94L8.5 2.5l-.94 2.06-2.06.94zm10 10l.94 2.06.94-2.06 2.06-.94-2.06-.94-.94-2.06-.94 2.06-2.06.94z\"/><path d=\"M17.41 7.96l-1.37-1.37c-.4-.4-.92-.59-1.43-.59-.52 0-1.04.2-1.43.59L10.3 9.45l-7.72 7.72c-.78.78-.78 2.05 0 2.83L4 21.41c.39.39.9.59 1.41.59.51 0 1.02-.2 1.41-.59l7.78-7.78 2.81-2.81c.8-.78.8-2.07 0-2.86zM5.41 20L4 18.59l7.72-7.72 1.47 1.35L5.41 20z\"/>\n",
              "  </svg>\n",
              "      </button>\n",
              "      \n",
              "  <style>\n",
              "    .colab-df-container {\n",
              "      display:flex;\n",
              "      flex-wrap:wrap;\n",
              "      gap: 12px;\n",
              "    }\n",
              "\n",
              "    .colab-df-convert {\n",
              "      background-color: #E8F0FE;\n",
              "      border: none;\n",
              "      border-radius: 50%;\n",
              "      cursor: pointer;\n",
              "      display: none;\n",
              "      fill: #1967D2;\n",
              "      height: 32px;\n",
              "      padding: 0 0 0 0;\n",
              "      width: 32px;\n",
              "    }\n",
              "\n",
              "    .colab-df-convert:hover {\n",
              "      background-color: #E2EBFA;\n",
              "      box-shadow: 0px 1px 2px rgba(60, 64, 67, 0.3), 0px 1px 3px 1px rgba(60, 64, 67, 0.15);\n",
              "      fill: #174EA6;\n",
              "    }\n",
              "\n",
              "    [theme=dark] .colab-df-convert {\n",
              "      background-color: #3B4455;\n",
              "      fill: #D2E3FC;\n",
              "    }\n",
              "\n",
              "    [theme=dark] .colab-df-convert:hover {\n",
              "      background-color: #434B5C;\n",
              "      box-shadow: 0px 1px 3px 1px rgba(0, 0, 0, 0.15);\n",
              "      filter: drop-shadow(0px 1px 2px rgba(0, 0, 0, 0.3));\n",
              "      fill: #FFFFFF;\n",
              "    }\n",
              "  </style>\n",
              "\n",
              "      <script>\n",
              "        const buttonEl =\n",
              "          document.querySelector('#df-e097611e-ad09-4d09-b84e-b328e710df3e button.colab-df-convert');\n",
              "        buttonEl.style.display =\n",
              "          google.colab.kernel.accessAllowed ? 'block' : 'none';\n",
              "\n",
              "        async function convertToInteractive(key) {\n",
              "          const element = document.querySelector('#df-e097611e-ad09-4d09-b84e-b328e710df3e');\n",
              "          const dataTable =\n",
              "            await google.colab.kernel.invokeFunction('convertToInteractive',\n",
              "                                                     [key], {});\n",
              "          if (!dataTable) return;\n",
              "\n",
              "          const docLinkHtml = 'Like what you see? Visit the ' +\n",
              "            '<a target=\"_blank\" href=https://colab.research.google.com/notebooks/data_table.ipynb>data table notebook</a>'\n",
              "            + ' to learn more about interactive tables.';\n",
              "          element.innerHTML = '';\n",
              "          dataTable['output_type'] = 'display_data';\n",
              "          await google.colab.output.renderOutput(dataTable, element);\n",
              "          const docLink = document.createElement('div');\n",
              "          docLink.innerHTML = docLinkHtml;\n",
              "          element.appendChild(docLink);\n",
              "        }\n",
              "      </script>\n",
              "    </div>\n",
              "  </div>\n",
              "  "
            ]
          },
          "metadata": {},
          "execution_count": 170
        }
      ]
    },
    {
      "cell_type": "markdown",
      "source": [
        "# Exercise 1: Processing Customers data (difficulty medium)"
      ],
      "metadata": {
        "id": "r4mpFv7t-R4U"
      }
    },
    {
      "cell_type": "code",
      "source": [
        "customers.info()"
      ],
      "metadata": {
        "colab": {
          "base_uri": "https://localhost:8080/"
        },
        "id": "NCkPZ5AYlZ-G",
        "outputId": "15164174-ffaa-452e-93b2-2e8e65d69837"
      },
      "execution_count": 171,
      "outputs": [
        {
          "output_type": "stream",
          "name": "stdout",
          "text": [
            "<class 'pandas.core.frame.DataFrame'>\n",
            "RangeIndex: 602 entries, 0 to 601\n",
            "Data columns (total 5 columns):\n",
            " #   Column      Non-Null Count  Dtype \n",
            "---  ------      --------------  ----- \n",
            " 0   CustomerID  602 non-null    int64 \n",
            " 1   FirstName   602 non-null    object\n",
            " 2   LastName    602 non-null    object\n",
            " 3   City        602 non-null    object\n",
            " 4   State       602 non-null    object\n",
            "dtypes: int64(1), object(4)\n",
            "memory usage: 23.6+ KB\n"
          ]
        }
      ]
    },
    {
      "cell_type": "markdown",
      "source": [
        "**Question 1:** How many customers are in the file?\n",
        "(as help, we have added some comments and starter code to help you structure the solution)"
      ],
      "metadata": {
        "id": "jiRd9lTj4zZE"
      }
    },
    {
      "cell_type": "code",
      "source": [
        "customers['CustomerID'].describe()"
      ],
      "metadata": {
        "colab": {
          "base_uri": "https://localhost:8080/"
        },
        "id": "6liMqaMI409S",
        "outputId": "3412bef1-5970-4f50-a0c1-1bf4dbd26861"
      },
      "execution_count": 172,
      "outputs": [
        {
          "output_type": "execute_result",
          "data": {
            "text/plain": [
              "count    6.020000e+02\n",
              "mean     3.500252e+06\n",
              "std      2.186549e+06\n",
              "min      5.014000e+03\n",
              "25%      1.500066e+06\n",
              "50%      5.100984e+06\n",
              "75%      5.370667e+06\n",
              "max      5.415503e+06\n",
              "Name: CustomerID, dtype: float64"
            ]
          },
          "metadata": {},
          "execution_count": 172
        }
      ]
    },
    {
      "cell_type": "code",
      "source": [
        "# CustomerID summary statistics shows that the column is float type. Lets convert it to a category"
      ],
      "metadata": {
        "id": "n8GdBgKrFEMt"
      },
      "execution_count": 173,
      "outputs": []
    },
    {
      "cell_type": "code",
      "source": [
        "# Convert CustomerID from float to category\n",
        "customers['UserID'] = customers['CustomerID'].astype('category')"
      ],
      "metadata": {
        "id": "0YCMPH65DyTP"
      },
      "execution_count": 174,
      "outputs": []
    },
    {
      "cell_type": "code",
      "source": [
        "# Write an assert statement confirming the change\n",
        "assert customers['UserID'].dtype == 'category'"
      ],
      "metadata": {
        "id": "JL21kSFDEuDG"
      },
      "execution_count": 175,
      "outputs": []
    },
    {
      "cell_type": "code",
      "source": [
        "# Print new summary statistics \n",
        "print(customers['UserID'].describe())"
      ],
      "metadata": {
        "colab": {
          "base_uri": "https://localhost:8080/"
        },
        "id": "60Me5B24E2NG",
        "outputId": "b2a303aa-c2a8-4a7a-b683-e533c854dff3"
      },
      "execution_count": 176,
      "outputs": [
        {
          "output_type": "stream",
          "name": "stdout",
          "text": [
            "count       602\n",
            "unique      471\n",
            "top       10986\n",
            "freq          5\n",
            "Name: UserID, dtype: int64\n"
          ]
        }
      ]
    },
    {
      "cell_type": "markdown",
      "source": [
        "There are 471 unique customers"
      ],
      "metadata": {
        "id": "SSMtRhGyHWJP"
      }
    },
    {
      "cell_type": "markdown",
      "source": [
        "**Question 2:** In how many different states do the customers live in?"
      ],
      "metadata": {
        "id": "RrDjmovZ6lZ8"
      }
    },
    {
      "cell_type": "code",
      "source": [
        "customers['State'].describe()"
      ],
      "metadata": {
        "colab": {
          "base_uri": "https://localhost:8080/"
        },
        "id": "uNWAUAff6mVE",
        "outputId": "86ad8968-a370-41ce-aa8b-f43c1bea67ed"
      },
      "execution_count": 177,
      "outputs": [
        {
          "output_type": "execute_result",
          "data": {
            "text/plain": [
              "count     602\n",
              "unique     16\n",
              "top        CA\n",
              "freq      562\n",
              "Name: State, dtype: object"
            ]
          },
          "metadata": {},
          "execution_count": 177
        }
      ]
    },
    {
      "cell_type": "markdown",
      "source": [
        "Our customers live in 16 different states\n",
        "\n"
      ],
      "metadata": {
        "id": "4Uo679imY2yR"
      }
    },
    {
      "cell_type": "markdown",
      "source": [
        "**Question 3** What is the state with most customers?"
      ],
      "metadata": {
        "id": "iPr8-j6e-onT"
      }
    },
    {
      "cell_type": "code",
      "source": [
        "# Create count plot with region on the X-axis\n",
        "fig, ax = plt.subplots()\n",
        "fig.set_size_inches([15, 5])\n",
        "sns.set_style(\"whitegrid\")\n",
        "sns.set_context(\"paper\")\n",
        "custom_palette=['#50d11f','#444444','#bcbcbc','#ffd966','#a7372f','#660000','#f1e432','#cc0000','#b9541d','#3d85c6']\n",
        "sns.set_palette(custom_palette)\n",
        "\n",
        "g=sns.countplot(x=customers['State'].sort_index(ascending=True))\n",
        "g.set_title(\"State count by customers\")\n",
        "plt.xticks(rotation=0)\n",
        "g.set(xlabel=\"State\", \n",
        "      ylabel=\"customers\")\n",
        "# Show plot\n",
        "plt.show()"
      ],
      "metadata": {
        "colab": {
          "base_uri": "https://localhost:8080/",
          "height": 348
        },
        "id": "lnWHhuQw-mUN",
        "outputId": "30cff7b5-2441-4ab3-c575-247ce6904ce4"
      },
      "execution_count": 178,
      "outputs": [
        {
          "output_type": "display_data",
          "data": {
            "text/plain": [
              "<Figure size 1080x360 with 1 Axes>"
            ],
            "image/png": "[encoded data removed]"
          },
          "metadata": {}
        }
      ]
    },
    {
      "cell_type": "markdown",
      "source": [
        "California with 562 customers is the state with the most customers"
      ],
      "metadata": {
        "id": "99WquIQ4ZlnC"
      }
    },
    {
      "cell_type": "markdown",
      "source": [
        "**Question 4** What is the state with the least customers?"
      ],
      "metadata": {
        "id": "lDGmzyCl-uKc"
      }
    },
    {
      "cell_type": "code",
      "source": [
        "customers['State'].value_counts()"
      ],
      "metadata": {
        "colab": {
          "base_uri": "https://localhost:8080/"
        },
        "id": "wBdmLCWs-u2F",
        "outputId": "58bad2d4-4be0-4785-c9f4-4b3614b4564b"
      },
      "execution_count": 179,
      "outputs": [
        {
          "output_type": "execute_result",
          "data": {
            "text/plain": [
              "CA               562\n",
              "NV                 8\n",
              "AZ                 6\n",
              "CA                 5\n",
              "FL                 3\n",
              "CO                 3\n",
              "NM                 3\n",
              "Ca                 2\n",
              "TX                 2\n",
              "UT                 2\n",
              "WA                 1\n",
              "NH                 1\n",
              "ID                 1\n",
              "OR                 1\n",
              "MA                 1\n",
              "IN                 1\n",
              "Name: State, dtype: int64"
            ]
          },
          "metadata": {},
          "execution_count": 179
        }
      ]
    },
    {
      "cell_type": "markdown",
      "source": [
        "Washington, New Hampshire, Idaho, Oregon, Massachusetts, and Indiana with one customer each occupied last pocisiton in custumer count.\n"
      ],
      "metadata": {
        "id": "dRO3ZZl3dtLC"
      }
    },
    {
      "cell_type": "markdown",
      "source": [
        "**Question 5:** What is the most common last name?"
      ],
      "metadata": {
        "id": "63xLOSW0-2NT"
      }
    },
    {
      "cell_type": "code",
      "source": [
        "customers['LastName'].sort_values(ascending=False).value_counts()"
      ],
      "metadata": {
        "colab": {
          "base_uri": "https://localhost:8080/"
        },
        "id": "9DZMQrlPenqx",
        "outputId": "67fbad95-bf99-463b-93f2-c2da86c4cbce"
      },
      "execution_count": 180,
      "outputs": [
        {
          "output_type": "execute_result",
          "data": {
            "text/plain": [
              "Smith              8\n",
              "Zambrana           5\n",
              "Gomez              5\n",
              "Doggett            5\n",
              "Montellano Luna    4\n",
              "                  ..\n",
              "Tindan             1\n",
              "McMains            1\n",
              "McNellis           1\n",
              "Medina             1\n",
              "McLean             1\n",
              "Name: LastName, Length: 424, dtype: int64"
            ]
          },
          "metadata": {},
          "execution_count": 180
        }
      ]
    },
    {
      "cell_type": "markdown",
      "source": [
        "Smith is the most common last name"
      ],
      "metadata": {
        "id": "BmrKKj0xf2vK"
      }
    },
    {
      "cell_type": "markdown",
      "source": [
        "# Exercise 2: Processing Orders data (difficulty high)"
      ],
      "metadata": {
        "id": "0aECuvuZ-8-8"
      }
    },
    {
      "cell_type": "code",
      "source": [
        "orders.info()"
      ],
      "metadata": {
        "colab": {
          "base_uri": "https://localhost:8080/"
        },
        "id": "R4gsej7HlT0M",
        "outputId": "91abf43b-ff98-455a-ddff-644e2eca192c"
      },
      "execution_count": 181,
      "outputs": [
        {
          "output_type": "stream",
          "name": "stdout",
          "text": [
            "<class 'pandas.core.frame.DataFrame'>\n",
            "RangeIndex: 29294 entries, 0 to 29293\n",
            "Data columns (total 6 columns):\n",
            " #   Column       Non-Null Count  Dtype  \n",
            "---  ------       --------------  -----  \n",
            " 0   CustomerID   29294 non-null  int64  \n",
            " 1   OrderID      29294 non-null  int64  \n",
            " 2   Date         27152 non-null  object \n",
            " 3   OrderTotal   29294 non-null  float64\n",
            " 4   ProductName  29294 non-null  object \n",
            " 5   Price        29294 non-null  float64\n",
            "dtypes: float64(2), int64(2), object(2)\n",
            "memory usage: 1.3+ MB\n"
          ]
        }
      ]
    },
    {
      "cell_type": "markdown",
      "source": [
        "**Question #1:** How many unique orders are in the orders.csv file?"
      ],
      "metadata": {
        "id": "iDyI-XDqiunS"
      }
    },
    {
      "cell_type": "code",
      "source": [
        "# Convert CustomerID from float to category\n",
        "orders['UniqueOrderID'] = orders['OrderID'].astype('category')"
      ],
      "metadata": {
        "id": "DD6rzw_gps_9"
      },
      "execution_count": 182,
      "outputs": []
    },
    {
      "cell_type": "code",
      "source": [
        "orders['UniqueOrderID'].describe()"
      ],
      "metadata": {
        "colab": {
          "base_uri": "https://localhost:8080/"
        },
        "id": "iFYAQSLAp2yc",
        "outputId": "d3aa8fda-dc36-4d87-a1aa-2d61adad41b9"
      },
      "execution_count": 183,
      "outputs": [
        {
          "output_type": "execute_result",
          "data": {
            "text/plain": [
              "count       29294\n",
              "unique      16672\n",
              "top       5802666\n",
              "freq           35\n",
              "Name: UniqueOrderID, dtype: int64"
            ]
          },
          "metadata": {},
          "execution_count": 183
        }
      ]
    },
    {
      "cell_type": "markdown",
      "source": [
        "There are 16672 unique orders"
      ],
      "metadata": {
        "id": "LrC_4gyksZw5"
      }
    },
    {
      "cell_type": "markdown",
      "source": [
        "**Question #2:** What is the average number of items per order (rounded to two decimal places)?"
      ],
      "metadata": {
        "id": "9Kc9tP3CslIj"
      }
    },
    {
      "cell_type": "code",
      "source": [
        "orders['OrderTotal'].sum()/orders['UniqueOrderID'].value_counts().sum()"
      ],
      "metadata": {
        "colab": {
          "base_uri": "https://localhost:8080/"
        },
        "id": "jMA7IV48slym",
        "outputId": "eda91f10-a368-4eb3-cfe0-0c30cb3dc454"
      },
      "execution_count": 191,
      "outputs": [
        {
          "output_type": "execute_result",
          "data": {
            "text/plain": [
              "298.03922304908855"
            ]
          },
          "metadata": {},
          "execution_count": 191
        }
      ]
    },
    {
      "cell_type": "markdown",
      "source": [
        "Every order has an average of 298 items"
      ],
      "metadata": {
        "id": "CJZwsZbmuZ8w"
      }
    },
    {
      "cell_type": "markdown",
      "source": [
        "**Question #3:** What is the highest number of items per order?"
      ],
      "metadata": {
        "id": "-lEIKhqBul8V"
      }
    },
    {
      "cell_type": "code",
      "source": [
        "orders['OrderTotal'].max()"
      ],
      "metadata": {
        "colab": {
          "base_uri": "https://localhost:8080/"
        },
        "id": "OFKMJMRxum7f",
        "outputId": "a775ca2a-e7ba-4fc8-ef40-2b308fba3eec"
      },
      "execution_count": 194,
      "outputs": [
        {
          "output_type": "execute_result",
          "data": {
            "text/plain": [
              "3600.0"
            ]
          },
          "metadata": {},
          "execution_count": 194
        }
      ]
    },
    {
      "cell_type": "code",
      "source": [
        "# Create a box plot \n",
        "sns.catplot(y=\"OrderTotal\",data=orders,kind=\"box\",whis=[0, 100])"
      ],
      "metadata": {
        "colab": {
          "base_uri": "https://localhost:8080/",
          "height": 387
        },
        "id": "RiGEUkc7vhNH",
        "outputId": "42b7ac21-3100-4ba2-f093-06abfde6a574"
      },
      "execution_count": 202,
      "outputs": [
        {
          "output_type": "execute_result",
          "data": {
            "text/plain": [
              "<seaborn.axisgrid.FacetGrid at 0x7ffaefb50970>"
            ]
          },
          "metadata": {},
          "execution_count": 202
        },
        {
          "output_type": "display_data",
          "data": {
            "text/plain": [
              "<Figure size 360x360 with 1 Axes>"
            ],
            "image/png": "[encoded data removed]"
          },
          "metadata": {}
        }
      ]
    },
    {
      "cell_type": "code",
      "source": [
        "highest_order=orders[orders['OrderTotal']==3600]\n",
        "highest_order.value_counts()"
      ],
      "metadata": {
        "colab": {
          "base_uri": "https://localhost:8080/"
        },
        "id": "wJXKu0utzYDH",
        "outputId": "b2a2375e-8a5d-4487-ca05-b6e534571f5e"
      },
      "execution_count": 204,
      "outputs": [
        {
          "output_type": "execute_result",
          "data": {
            "text/plain": [
              "CustomerID  OrderID  Date                     OrderTotal  ProductName  Price  UniqueOrderID\n",
              "5464        7411097  2018-09-09 13:44:20.740  3600.0      0901         100.0  7411097          5\n",
              "                                                          0902         200.0  7411097          5\n",
              "                                                          0903         200.0  7411097          5\n",
              "                                                          3369         70.0   7411097          5\n",
              "                                                          3370         70.0   7411097          5\n",
              "                                                          3371         80.0   7411097          5\n",
              "            7553706  2019-06-09 07:28:33.873  3600.0      0901         100.0  7553706          5\n",
              "                                                          0902         200.0  7553706          5\n",
              "                                                          0903         200.0  7553706          5\n",
              "                                                          3369         70.0   7553706          5\n",
              "                                                          3370         70.0   7553706          5\n",
              "                                                          3371         80.0   7553706          5\n",
              "dtype: int64"
            ]
          },
          "metadata": {},
          "execution_count": 204
        }
      ]
    },
    {
      "cell_type": "code",
      "source": [
        "highest_order_customer=customers[customers['CustomerID']==5464]\n",
        "highest_order_customer"
      ],
      "metadata": {
        "colab": {
          "base_uri": "https://localhost:8080/",
          "height": 81
        },
        "id": "CUyQO40m0cXh",
        "outputId": "3ac72244-2cac-46d7-aab6-d4ff81cc92ff"
      },
      "execution_count": 206,
      "outputs": [
        {
          "output_type": "execute_result",
          "data": {
            "text/plain": [
              "     CustomerID FirstName LastName  City State UserID\n",
              "287        5464      Juan     Soto  Bell    CA   5464"
            ],
            "text/html": [
              "\n",
              "  <div id=\"df-ed0e3cb9-11f6-4374-99af-6477eba029fa\">\n",
              "    <div class=\"colab-df-container\">\n",
              "      <div>\n",
              "<style scoped>\n",
              "    .dataframe tbody tr th:only-of-type {\n",
              "        vertical-align: middle;\n",
              "    }\n",
              "\n",
              "    .dataframe tbody tr th {\n",
              "        vertical-align: top;\n",
              "    }\n",
              "\n",
              "    .dataframe thead th {\n",
              "        text-align: right;\n",
              "    }\n",
              "</style>\n",
              "<table border=\"1\" class=\"dataframe\">\n",
              "  <thead>\n",
              "    <tr style=\"text-align: right;\">\n",
              "      <th></th>\n",
              "      <th>CustomerID</th>\n",
              "      <th>FirstName</th>\n",
              "      <th>LastName</th>\n",
              "      <th>City</th>\n",
              "      <th>State</th>\n",
              "      <th>UserID</th>\n",
              "    </tr>\n",
              "  </thead>\n",
              "  <tbody>\n",
              "    <tr>\n",
              "      <th>287</th>\n",
              "      <td>5464</td>\n",
              "      <td>Juan</td>\n",
              "      <td>Soto</td>\n",
              "      <td>Bell</td>\n",
              "      <td>CA</td>\n",
              "      <td>5464</td>\n",
              "    </tr>\n",
              "  </tbody>\n",
              "</table>\n",
              "</div>\n",
              "      <button class=\"colab-df-convert\" onclick=\"convertToInteractive('df-ed0e3cb9-11f6-4374-99af-6477eba029fa')\"\n",
              "              title=\"Convert this dataframe to an interactive table.\"\n",
              "              style=\"display:none;\">\n",
              "        \n",
              "  <svg xmlns=\"http://www.w3.org/2000/svg\" height=\"24px\"viewBox=\"0 0 24 24\"\n",
              "       width=\"24px\">\n",
              "    <path d=\"M0 0h24v24H0V0z\" fill=\"none\"/>\n",
              "    <path d=\"M18.56 5.44l.94 2.06.94-2.06 2.06-.94-2.06-.94-.94-2.06-.94 2.06-2.06.94zm-11 1L8.5 8.5l.94-2.06 2.06-.94-2.06-.94L8.5 2.5l-.94 2.06-2.06.94zm10 10l.94 2.06.94-2.06 2.06-.94-2.06-.94-.94-2.06-.94 2.06-2.06.94z\"/><path d=\"M17.41 7.96l-1.37-1.37c-.4-.4-.92-.59-1.43-.59-.52 0-1.04.2-1.43.59L10.3 9.45l-7.72 7.72c-.78.78-.78 2.05 0 2.83L4 21.41c.39.39.9.59 1.41.59.51 0 1.02-.2 1.41-.59l7.78-7.78 2.81-2.81c.8-.78.8-2.07 0-2.86zM5.41 20L4 18.59l7.72-7.72 1.47 1.35L5.41 20z\"/>\n",
              "  </svg>\n",
              "      </button>\n",
              "      \n",
              "  <style>\n",
              "    .colab-df-container {\n",
              "      display:flex;\n",
              "      flex-wrap:wrap;\n",
              "      gap: 12px;\n",
              "    }\n",
              "\n",
              "    .colab-df-convert {\n",
              "      background-color: #E8F0FE;\n",
              "      border: none;\n",
              "      border-radius: 50%;\n",
              "      cursor: pointer;\n",
              "      display: none;\n",
              "      fill: #1967D2;\n",
              "      height: 32px;\n",
              "      padding: 0 0 0 0;\n",
              "      width: 32px;\n",
              "    }\n",
              "\n",
              "    .colab-df-convert:hover {\n",
              "      background-color: #E2EBFA;\n",
              "      box-shadow: 0px 1px 2px rgba(60, 64, 67, 0.3), 0px 1px 3px 1px rgba(60, 64, 67, 0.15);\n",
              "      fill: #174EA6;\n",
              "    }\n",
              "\n",
              "    [theme=dark] .colab-df-convert {\n",
              "      background-color: #3B4455;\n",
              "      fill: #D2E3FC;\n",
              "    }\n",
              "\n",
              "    [theme=dark] .colab-df-convert:hover {\n",
              "      background-color: #434B5C;\n",
              "      box-shadow: 0px 1px 3px 1px rgba(0, 0, 0, 0.15);\n",
              "      filter: drop-shadow(0px 1px 2px rgba(0, 0, 0, 0.3));\n",
              "      fill: #FFFFFF;\n",
              "    }\n",
              "  </style>\n",
              "\n",
              "      <script>\n",
              "        const buttonEl =\n",
              "          document.querySelector('#df-ed0e3cb9-11f6-4374-99af-6477eba029fa button.colab-df-convert');\n",
              "        buttonEl.style.display =\n",
              "          google.colab.kernel.accessAllowed ? 'block' : 'none';\n",
              "\n",
              "        async function convertToInteractive(key) {\n",
              "          const element = document.querySelector('#df-ed0e3cb9-11f6-4374-99af-6477eba029fa');\n",
              "          const dataTable =\n",
              "            await google.colab.kernel.invokeFunction('convertToInteractive',\n",
              "                                                     [key], {});\n",
              "          if (!dataTable) return;\n",
              "\n",
              "          const docLinkHtml = 'Like what you see? Visit the ' +\n",
              "            '<a target=\"_blank\" href=https://colab.research.google.com/notebooks/data_table.ipynb>data table notebook</a>'\n",
              "            + ' to learn more about interactive tables.';\n",
              "          element.innerHTML = '';\n",
              "          dataTable['output_type'] = 'display_data';\n",
              "          await google.colab.output.renderOutput(dataTable, element);\n",
              "          const docLink = document.createElement('div');\n",
              "          docLink.innerHTML = docLinkHtml;\n",
              "          element.appendChild(docLink);\n",
              "        }\n",
              "      </script>\n",
              "    </div>\n",
              "  </div>\n",
              "  "
            ]
          },
          "metadata": {},
          "execution_count": 206
        }
      ]
    },
    {
      "cell_type": "markdown",
      "source": [
        " the highest number of items per order is 3600 that belongs to orders 7411097 and 7553706 both orders are from customer id 5464 Juan Soto from California"
      ],
      "metadata": {
        "id": "nsp5CgJez36x"
      }
    },
    {
      "cell_type": "markdown",
      "source": [
        "**Question #4:** What is the number of orders placed in October 2021?"
      ],
      "metadata": {
        "id": "kWXd3ET7w-oP"
      }
    },
    {
      "cell_type": "code",
      "source": [
        "orders_time_series = pd.read_csv('orders.csv', parse_dates=[\"Date\"], index_col=\"Date\")"
      ],
      "metadata": {
        "id": "Bwnwdv88vwk1"
      },
      "execution_count": 207,
      "outputs": []
    },
    {
      "cell_type": "code",
      "source": [
        "orders_time_series.head()"
      ],
      "metadata": {
        "colab": {
          "base_uri": "https://localhost:8080/",
          "height": 238
        },
        "id": "j8z4qPXR3Yc6",
        "outputId": "4f2e0107-2322-4ebf-b7e1-7ac7ed0de0a6"
      },
      "execution_count": 210,
      "outputs": [
        {
          "output_type": "execute_result",
          "data": {
            "text/plain": [
              "                         CustomerID  OrderID  OrderTotal ProductName  Price\n",
              "Date                                                                       \n",
              "2021-07-26 14:40:10.783        8091  7742581        95.0         Z03   90.0\n",
              "2021-08-08 05:01:21.120      902139  7742778        60.0    0844 A/C   60.0\n",
              "2021-07-27 11:00:16.020     2300266  7742593       185.0         M07   90.0\n",
              "2021-07-27 11:00:16.020     2300266  7742593       185.0         M09   90.0\n",
              "2021-07-28 14:26:13.930     5173013  7742609       165.0        0324  160.0"
            ],
            "text/html": [
              "\n",
              "  <div id=\"df-08e6c3ce-0401-45cc-9408-385f4a7b046d\">\n",
              "    <div class=\"colab-df-container\">\n",
              "      <div>\n",
              "<style scoped>\n",
              "    .dataframe tbody tr th:only-of-type {\n",
              "        vertical-align: middle;\n",
              "    }\n",
              "\n",
              "    .dataframe tbody tr th {\n",
              "        vertical-align: top;\n",
              "    }\n",
              "\n",
              "    .dataframe thead th {\n",
              "        text-align: right;\n",
              "    }\n",
              "</style>\n",
              "<table border=\"1\" class=\"dataframe\">\n",
              "  <thead>\n",
              "    <tr style=\"text-align: right;\">\n",
              "      <th></th>\n",
              "      <th>CustomerID</th>\n",
              "      <th>OrderID</th>\n",
              "      <th>OrderTotal</th>\n",
              "      <th>ProductName</th>\n",
              "      <th>Price</th>\n",
              "    </tr>\n",
              "    <tr>\n",
              "      <th>Date</th>\n",
              "      <th></th>\n",
              "      <th></th>\n",
              "      <th></th>\n",
              "      <th></th>\n",
              "      <th></th>\n",
              "    </tr>\n",
              "  </thead>\n",
              "  <tbody>\n",
              "    <tr>\n",
              "      <th>2021-07-26 14:40:10.783</th>\n",
              "      <td>8091</td>\n",
              "      <td>7742581</td>\n",
              "      <td>95.0</td>\n",
              "      <td>Z03</td>\n",
              "      <td>90.0</td>\n",
              "    </tr>\n",
              "    <tr>\n",
              "      <th>2021-08-08 05:01:21.120</th>\n",
              "      <td>902139</td>\n",
              "      <td>7742778</td>\n",
              "      <td>60.0</td>\n",
              "      <td>0844 A/C</td>\n",
              "      <td>60.0</td>\n",
              "    </tr>\n",
              "    <tr>\n",
              "      <th>2021-07-27 11:00:16.020</th>\n",
              "      <td>2300266</td>\n",
              "      <td>7742593</td>\n",
              "      <td>185.0</td>\n",
              "      <td>M07</td>\n",
              "      <td>90.0</td>\n",
              "    </tr>\n",
              "    <tr>\n",
              "      <th>2021-07-27 11:00:16.020</th>\n",
              "      <td>2300266</td>\n",
              "      <td>7742593</td>\n",
              "      <td>185.0</td>\n",
              "      <td>M09</td>\n",
              "      <td>90.0</td>\n",
              "    </tr>\n",
              "    <tr>\n",
              "      <th>2021-07-28 14:26:13.930</th>\n",
              "      <td>5173013</td>\n",
              "      <td>7742609</td>\n",
              "      <td>165.0</td>\n",
              "      <td>0324</td>\n",
              "      <td>160.0</td>\n",
              "    </tr>\n",
              "  </tbody>\n",
              "</table>\n",
              "</div>\n",
              "      <button class=\"colab-df-convert\" onclick=\"convertToInteractive('df-08e6c3ce-0401-45cc-9408-385f4a7b046d')\"\n",
              "              title=\"Convert this dataframe to an interactive table.\"\n",
              "              style=\"display:none;\">\n",
              "        \n",
              "  <svg xmlns=\"http://www.w3.org/2000/svg\" height=\"24px\"viewBox=\"0 0 24 24\"\n",
              "       width=\"24px\">\n",
              "    <path d=\"M0 0h24v24H0V0z\" fill=\"none\"/>\n",
              "    <path d=\"M18.56 5.44l.94 2.06.94-2.06 2.06-.94-2.06-.94-.94-2.06-.94 2.06-2.06.94zm-11 1L8.5 8.5l.94-2.06 2.06-.94-2.06-.94L8.5 2.5l-.94 2.06-2.06.94zm10 10l.94 2.06.94-2.06 2.06-.94-2.06-.94-.94-2.06-.94 2.06-2.06.94z\"/><path d=\"M17.41 7.96l-1.37-1.37c-.4-.4-.92-.59-1.43-.59-.52 0-1.04.2-1.43.59L10.3 9.45l-7.72 7.72c-.78.78-.78 2.05 0 2.83L4 21.41c.39.39.9.59 1.41.59.51 0 1.02-.2 1.41-.59l7.78-7.78 2.81-2.81c.8-.78.8-2.07 0-2.86zM5.41 20L4 18.59l7.72-7.72 1.47 1.35L5.41 20z\"/>\n",
              "  </svg>\n",
              "      </button>\n",
              "      \n",
              "  <style>\n",
              "    .colab-df-container {\n",
              "      display:flex;\n",
              "      flex-wrap:wrap;\n",
              "      gap: 12px;\n",
              "    }\n",
              "\n",
              "    .colab-df-convert {\n",
              "      background-color: #E8F0FE;\n",
              "      border: none;\n",
              "      border-radius: 50%;\n",
              "      cursor: pointer;\n",
              "      display: none;\n",
              "      fill: #1967D2;\n",
              "      height: 32px;\n",
              "      padding: 0 0 0 0;\n",
              "      width: 32px;\n",
              "    }\n",
              "\n",
              "    .colab-df-convert:hover {\n",
              "      background-color: #E2EBFA;\n",
              "      box-shadow: 0px 1px 2px rgba(60, 64, 67, 0.3), 0px 1px 3px 1px rgba(60, 64, 67, 0.15);\n",
              "      fill: #174EA6;\n",
              "    }\n",
              "\n",
              "    [theme=dark] .colab-df-convert {\n",
              "      background-color: #3B4455;\n",
              "      fill: #D2E3FC;\n",
              "    }\n",
              "\n",
              "    [theme=dark] .colab-df-convert:hover {\n",
              "      background-color: #434B5C;\n",
              "      box-shadow: 0px 1px 3px 1px rgba(0, 0, 0, 0.15);\n",
              "      filter: drop-shadow(0px 1px 2px rgba(0, 0, 0, 0.3));\n",
              "      fill: #FFFFFF;\n",
              "    }\n",
              "  </style>\n",
              "\n",
              "      <script>\n",
              "        const buttonEl =\n",
              "          document.querySelector('#df-08e6c3ce-0401-45cc-9408-385f4a7b046d button.colab-df-convert');\n",
              "        buttonEl.style.display =\n",
              "          google.colab.kernel.accessAllowed ? 'block' : 'none';\n",
              "\n",
              "        async function convertToInteractive(key) {\n",
              "          const element = document.querySelector('#df-08e6c3ce-0401-45cc-9408-385f4a7b046d');\n",
              "          const dataTable =\n",
              "            await google.colab.kernel.invokeFunction('convertToInteractive',\n",
              "                                                     [key], {});\n",
              "          if (!dataTable) return;\n",
              "\n",
              "          const docLinkHtml = 'Like what you see? Visit the ' +\n",
              "            '<a target=\"_blank\" href=https://colab.research.google.com/notebooks/data_table.ipynb>data table notebook</a>'\n",
              "            + ' to learn more about interactive tables.';\n",
              "          element.innerHTML = '';\n",
              "          dataTable['output_type'] = 'display_data';\n",
              "          await google.colab.output.renderOutput(dataTable, element);\n",
              "          const docLink = document.createElement('div');\n",
              "          docLink.innerHTML = docLinkHtml;\n",
              "          element.appendChild(docLink);\n",
              "        }\n",
              "      </script>\n",
              "    </div>\n",
              "  </div>\n",
              "  "
            ]
          },
          "metadata": {},
          "execution_count": 210
        }
      ]
    },
    {
      "cell_type": "code",
      "source": [
        "october_2021_orders = orders_time_series[(orders_time_series.index >= '2021-10-1')&(orders_time_series.index <= '2021-10-31')]"
      ],
      "metadata": {
        "id": "WaHN_z_f1vyA"
      },
      "execution_count": 235,
      "outputs": []
    },
    {
      "cell_type": "code",
      "source": [
        "october_2021_orders['UniqueOrderID'] = october_2021_orders['OrderID'].astype('category')"
      ],
      "metadata": {
        "colab": {
          "base_uri": "https://localhost:8080/"
        },
        "id": "yL3ScRt6BnJc",
        "outputId": "57eb1cbd-5333-4a59-8fe7-3bd117bf84d1"
      },
      "execution_count": 236,
      "outputs": [
        {
          "output_type": "stream",
          "name": "stderr",
          "text": [
            "<ipython-input-236-4ae8237433c4>:1: SettingWithCopyWarning: \n",
            "A value is trying to be set on a copy of a slice from a DataFrame.\n",
            "Try using .loc[row_indexer,col_indexer] = value instead\n",
            "\n",
            "See the caveats in the documentation: https://pandas.pydata.org/pandas-docs/stable/user_guide/indexing.html#returning-a-view-versus-a-copy\n",
            "  october_2021_orders['UniqueOrderID'] = october_2021_orders['OrderID'].astype('category')\n"
          ]
        }
      ]
    },
    {
      "cell_type": "code",
      "source": [
        "october_2021_orders['UniqueOrderID'].describe()"
      ],
      "metadata": {
        "colab": {
          "base_uri": "https://localhost:8080/"
        },
        "id": "5eG7ShO-DQvU",
        "outputId": "77a33539-42a7-48e9-e8de-d93657152293"
      },
      "execution_count": 237,
      "outputs": [
        {
          "output_type": "execute_result",
          "data": {
            "text/plain": [
              "count         437\n",
              "unique        267\n",
              "top       7789498\n",
              "freq            9\n",
              "Name: UniqueOrderID, dtype: int64"
            ]
          },
          "metadata": {},
          "execution_count": 237
        }
      ]
    },
    {
      "cell_type": "code",
      "source": [
        "october_2021_orders['UniqueOrderID'].value_counts().sum()"
      ],
      "metadata": {
        "colab": {
          "base_uri": "https://localhost:8080/"
        },
        "id": "RfNaeed8DWy8",
        "outputId": "2d2af6fc-6d22-46ff-bd80-2f0735e7716f"
      },
      "execution_count": 239,
      "outputs": [
        {
          "output_type": "execute_result",
          "data": {
            "text/plain": [
              "437"
            ]
          },
          "metadata": {},
          "execution_count": 239
        }
      ]
    },
    {
      "cell_type": "markdown",
      "source": [
        "There are 437 orders placed from October 2021"
      ],
      "metadata": {
        "id": "0-52vpqQEfu0"
      }
    },
    {
      "cell_type": "markdown",
      "source": [
        "**Question #5:** Which customer spent the most amount of money in 2021?"
      ],
      "metadata": {
        "id": "dpD_SQMNxmun"
      }
    },
    {
      "cell_type": "code",
      "source": [
        "orders_2021=orders_time_series[(orders_time_series.index >= '2021-01-01')&(orders_time_series.index <= '2021-12-31')]"
      ],
      "metadata": {
        "id": "azGWV5HnxrEg"
      },
      "execution_count": 241,
      "outputs": []
    },
    {
      "cell_type": "code",
      "source": [
        "orders_2021.head()"
      ],
      "metadata": {
        "colab": {
          "base_uri": "https://localhost:8080/",
          "height": 238
        },
        "id": "nsmpQfHRE_bL",
        "outputId": "2bdddddb-6d73-4ab3-b733-4a14e03a50bc"
      },
      "execution_count": 242,
      "outputs": [
        {
          "output_type": "execute_result",
          "data": {
            "text/plain": [
              "                         CustomerID  OrderID  OrderTotal ProductName  Price\n",
              "Date                                                                       \n",
              "2021-07-26 14:40:10.783        8091  7742581        95.0         Z03   90.0\n",
              "2021-08-08 05:01:21.120      902139  7742778        60.0    0844 A/C   60.0\n",
              "2021-07-27 11:00:16.020     2300266  7742593       185.0         M07   90.0\n",
              "2021-07-27 11:00:16.020     2300266  7742593       185.0         M09   90.0\n",
              "2021-07-28 14:26:13.930     5173013  7742609       165.0        0324  160.0"
            ],
            "text/html": [
              "\n",
              "  <div id=\"df-b37f8d6f-1f85-4f94-82de-2ba23dda1a61\">\n",
              "    <div class=\"colab-df-container\">\n",
              "      <div>\n",
              "<style scoped>\n",
              "    .dataframe tbody tr th:only-of-type {\n",
              "        vertical-align: middle;\n",
              "    }\n",
              "\n",
              "    .dataframe tbody tr th {\n",
              "        vertical-align: top;\n",
              "    }\n",
              "\n",
              "    .dataframe thead th {\n",
              "        text-align: right;\n",
              "    }\n",
              "</style>\n",
              "<table border=\"1\" class=\"dataframe\">\n",
              "  <thead>\n",
              "    <tr style=\"text-align: right;\">\n",
              "      <th></th>\n",
              "      <th>CustomerID</th>\n",
              "      <th>OrderID</th>\n",
              "      <th>OrderTotal</th>\n",
              "      <th>ProductName</th>\n",
              "      <th>Price</th>\n",
              "    </tr>\n",
              "    <tr>\n",
              "      <th>Date</th>\n",
              "      <th></th>\n",
              "      <th></th>\n",
              "      <th></th>\n",
              "      <th></th>\n",
              "      <th></th>\n",
              "    </tr>\n",
              "  </thead>\n",
              "  <tbody>\n",
              "    <tr>\n",
              "      <th>2021-07-26 14:40:10.783</th>\n",
              "      <td>8091</td>\n",
              "      <td>7742581</td>\n",
              "      <td>95.0</td>\n",
              "      <td>Z03</td>\n",
              "      <td>90.0</td>\n",
              "    </tr>\n",
              "    <tr>\n",
              "      <th>2021-08-08 05:01:21.120</th>\n",
              "      <td>902139</td>\n",
              "      <td>7742778</td>\n",
              "      <td>60.0</td>\n",
              "      <td>0844 A/C</td>\n",
              "      <td>60.0</td>\n",
              "    </tr>\n",
              "    <tr>\n",
              "      <th>2021-07-27 11:00:16.020</th>\n",
              "      <td>2300266</td>\n",
              "      <td>7742593</td>\n",
              "      <td>185.0</td>\n",
              "      <td>M07</td>\n",
              "      <td>90.0</td>\n",
              "    </tr>\n",
              "    <tr>\n",
              "      <th>2021-07-27 11:00:16.020</th>\n",
              "      <td>2300266</td>\n",
              "      <td>7742593</td>\n",
              "      <td>185.0</td>\n",
              "      <td>M09</td>\n",
              "      <td>90.0</td>\n",
              "    </tr>\n",
              "    <tr>\n",
              "      <th>2021-07-28 14:26:13.930</th>\n",
              "      <td>5173013</td>\n",
              "      <td>7742609</td>\n",
              "      <td>165.0</td>\n",
              "      <td>0324</td>\n",
              "      <td>160.0</td>\n",
              "    </tr>\n",
              "  </tbody>\n",
              "</table>\n",
              "</div>\n",
              "      <button class=\"colab-df-convert\" onclick=\"convertToInteractive('df-b37f8d6f-1f85-4f94-82de-2ba23dda1a61')\"\n",
              "              title=\"Convert this dataframe to an interactive table.\"\n",
              "              style=\"display:none;\">\n",
              "        \n",
              "  <svg xmlns=\"http://www.w3.org/2000/svg\" height=\"24px\"viewBox=\"0 0 24 24\"\n",
              "       width=\"24px\">\n",
              "    <path d=\"M0 0h24v24H0V0z\" fill=\"none\"/>\n",
              "    <path d=\"M18.56 5.44l.94 2.06.94-2.06 2.06-.94-2.06-.94-.94-2.06-.94 2.06-2.06.94zm-11 1L8.5 8.5l.94-2.06 2.06-.94-2.06-.94L8.5 2.5l-.94 2.06-2.06.94zm10 10l.94 2.06.94-2.06 2.06-.94-2.06-.94-.94-2.06-.94 2.06-2.06.94z\"/><path d=\"M17.41 7.96l-1.37-1.37c-.4-.4-.92-.59-1.43-.59-.52 0-1.04.2-1.43.59L10.3 9.45l-7.72 7.72c-.78.78-.78 2.05 0 2.83L4 21.41c.39.39.9.59 1.41.59.51 0 1.02-.2 1.41-.59l7.78-7.78 2.81-2.81c.8-.78.8-2.07 0-2.86zM5.41 20L4 18.59l7.72-7.72 1.47 1.35L5.41 20z\"/>\n",
              "  </svg>\n",
              "      </button>\n",
              "      \n",
              "  <style>\n",
              "    .colab-df-container {\n",
              "      display:flex;\n",
              "      flex-wrap:wrap;\n",
              "      gap: 12px;\n",
              "    }\n",
              "\n",
              "    .colab-df-convert {\n",
              "      background-color: #E8F0FE;\n",
              "      border: none;\n",
              "      border-radius: 50%;\n",
              "      cursor: pointer;\n",
              "      display: none;\n",
              "      fill: #1967D2;\n",
              "      height: 32px;\n",
              "      padding: 0 0 0 0;\n",
              "      width: 32px;\n",
              "    }\n",
              "\n",
              "    .colab-df-convert:hover {\n",
              "      background-color: #E2EBFA;\n",
              "      box-shadow: 0px 1px 2px rgba(60, 64, 67, 0.3), 0px 1px 3px 1px rgba(60, 64, 67, 0.15);\n",
              "      fill: #174EA6;\n",
              "    }\n",
              "\n",
              "    [theme=dark] .colab-df-convert {\n",
              "      background-color: #3B4455;\n",
              "      fill: #D2E3FC;\n",
              "    }\n",
              "\n",
              "    [theme=dark] .colab-df-convert:hover {\n",
              "      background-color: #434B5C;\n",
              "      box-shadow: 0px 1px 3px 1px rgba(0, 0, 0, 0.15);\n",
              "      filter: drop-shadow(0px 1px 2px rgba(0, 0, 0, 0.3));\n",
              "      fill: #FFFFFF;\n",
              "    }\n",
              "  </style>\n",
              "\n",
              "      <script>\n",
              "        const buttonEl =\n",
              "          document.querySelector('#df-b37f8d6f-1f85-4f94-82de-2ba23dda1a61 button.colab-df-convert');\n",
              "        buttonEl.style.display =\n",
              "          google.colab.kernel.accessAllowed ? 'block' : 'none';\n",
              "\n",
              "        async function convertToInteractive(key) {\n",
              "          const element = document.querySelector('#df-b37f8d6f-1f85-4f94-82de-2ba23dda1a61');\n",
              "          const dataTable =\n",
              "            await google.colab.kernel.invokeFunction('convertToInteractive',\n",
              "                                                     [key], {});\n",
              "          if (!dataTable) return;\n",
              "\n",
              "          const docLinkHtml = 'Like what you see? Visit the ' +\n",
              "            '<a target=\"_blank\" href=https://colab.research.google.com/notebooks/data_table.ipynb>data table notebook</a>'\n",
              "            + ' to learn more about interactive tables.';\n",
              "          element.innerHTML = '';\n",
              "          dataTable['output_type'] = 'display_data';\n",
              "          await google.colab.output.renderOutput(dataTable, element);\n",
              "          const docLink = document.createElement('div');\n",
              "          docLink.innerHTML = docLinkHtml;\n",
              "          element.appendChild(docLink);\n",
              "        }\n",
              "      </script>\n",
              "    </div>\n",
              "  </div>\n",
              "  "
            ]
          },
          "metadata": {},
          "execution_count": 242
        }
      ]
    },
    {
      "cell_type": "code",
      "source": [
        "cx=orders_2021.groupby(\"CustomerID\")[\"Price\"].sum()\n",
        "cx.sort_values(ascending=False)"
      ],
      "metadata": {
        "colab": {
          "base_uri": "https://localhost:8080/"
        },
        "id": "OOcutu6RJ2YC",
        "outputId": "8ef92942-2fc0-4488-a96e-90ff69d5314d"
      },
      "execution_count": 263,
      "outputs": [
        {
          "output_type": "execute_result",
          "data": {
            "text/plain": [
              "CustomerID\n",
              "5172443    7675.0\n",
              "1907160    5485.0\n",
              "5464       5470.0\n",
              "5100984    5225.0\n",
              "4300438    4960.0\n",
              "            ...  \n",
              "5370602     100.0\n",
              "5415211     100.0\n",
              "5415286     100.0\n",
              "5370422      90.0\n",
              "5370388      85.0\n",
              "Name: Price, Length: 342, dtype: float64"
            ]
          },
          "metadata": {},
          "execution_count": 263
        }
      ]
    },
    {
      "cell_type": "code",
      "source": [
        "most_money_2021_cx=customers[customers['CustomerID']==5172443]\n",
        "most_money_2021_cx"
      ],
      "metadata": {
        "colab": {
          "base_uri": "https://localhost:8080/",
          "height": 81
        },
        "id": "wtz3cvwQMUXZ",
        "outputId": "6d8f5561-bc84-4767-fcb0-3751bc4357ba"
      },
      "execution_count": 264,
      "outputs": [
        {
          "output_type": "execute_result",
          "data": {
            "text/plain": [
              "     CustomerID FirstName LastName         City State   UserID\n",
              "171     5172443   Brandon    Divas  Los Angeles    CA  5172443"
            ],
            "text/html": [
              "\n",
              "  <div id=\"df-36acece9-7ea6-446b-8ed0-9e4d42c3d543\">\n",
              "    <div class=\"colab-df-container\">\n",
              "      <div>\n",
              "<style scoped>\n",
              "    .dataframe tbody tr th:only-of-type {\n",
              "        vertical-align: middle;\n",
              "    }\n",
              "\n",
              "    .dataframe tbody tr th {\n",
              "        vertical-align: top;\n",
              "    }\n",
              "\n",
              "    .dataframe thead th {\n",
              "        text-align: right;\n",
              "    }\n",
              "</style>\n",
              "<table border=\"1\" class=\"dataframe\">\n",
              "  <thead>\n",
              "    <tr style=\"text-align: right;\">\n",
              "      <th></th>\n",
              "      <th>CustomerID</th>\n",
              "      <th>FirstName</th>\n",
              "      <th>LastName</th>\n",
              "      <th>City</th>\n",
              "      <th>State</th>\n",
              "      <th>UserID</th>\n",
              "    </tr>\n",
              "  </thead>\n",
              "  <tbody>\n",
              "    <tr>\n",
              "      <th>171</th>\n",
              "      <td>5172443</td>\n",
              "      <td>Brandon</td>\n",
              "      <td>Divas</td>\n",
              "      <td>Los Angeles</td>\n",
              "      <td>CA</td>\n",
              "      <td>5172443</td>\n",
              "    </tr>\n",
              "  </tbody>\n",
              "</table>\n",
              "</div>\n",
              "      <button class=\"colab-df-convert\" onclick=\"convertToInteractive('df-36acece9-7ea6-446b-8ed0-9e4d42c3d543')\"\n",
              "              title=\"Convert this dataframe to an interactive table.\"\n",
              "              style=\"display:none;\">\n",
              "        \n",
              "  <svg xmlns=\"http://www.w3.org/2000/svg\" height=\"24px\"viewBox=\"0 0 24 24\"\n",
              "       width=\"24px\">\n",
              "    <path d=\"M0 0h24v24H0V0z\" fill=\"none\"/>\n",
              "    <path d=\"M18.56 5.44l.94 2.06.94-2.06 2.06-.94-2.06-.94-.94-2.06-.94 2.06-2.06.94zm-11 1L8.5 8.5l.94-2.06 2.06-.94-2.06-.94L8.5 2.5l-.94 2.06-2.06.94zm10 10l.94 2.06.94-2.06 2.06-.94-2.06-.94-.94-2.06-.94 2.06-2.06.94z\"/><path d=\"M17.41 7.96l-1.37-1.37c-.4-.4-.92-.59-1.43-.59-.52 0-1.04.2-1.43.59L10.3 9.45l-7.72 7.72c-.78.78-.78 2.05 0 2.83L4 21.41c.39.39.9.59 1.41.59.51 0 1.02-.2 1.41-.59l7.78-7.78 2.81-2.81c.8-.78.8-2.07 0-2.86zM5.41 20L4 18.59l7.72-7.72 1.47 1.35L5.41 20z\"/>\n",
              "  </svg>\n",
              "      </button>\n",
              "      \n",
              "  <style>\n",
              "    .colab-df-container {\n",
              "      display:flex;\n",
              "      flex-wrap:wrap;\n",
              "      gap: 12px;\n",
              "    }\n",
              "\n",
              "    .colab-df-convert {\n",
              "      background-color: #E8F0FE;\n",
              "      border: none;\n",
              "      border-radius: 50%;\n",
              "      cursor: pointer;\n",
              "      display: none;\n",
              "      fill: #1967D2;\n",
              "      height: 32px;\n",
              "      padding: 0 0 0 0;\n",
              "      width: 32px;\n",
              "    }\n",
              "\n",
              "    .colab-df-convert:hover {\n",
              "      background-color: #E2EBFA;\n",
              "      box-shadow: 0px 1px 2px rgba(60, 64, 67, 0.3), 0px 1px 3px 1px rgba(60, 64, 67, 0.15);\n",
              "      fill: #174EA6;\n",
              "    }\n",
              "\n",
              "    [theme=dark] .colab-df-convert {\n",
              "      background-color: #3B4455;\n",
              "      fill: #D2E3FC;\n",
              "    }\n",
              "\n",
              "    [theme=dark] .colab-df-convert:hover {\n",
              "      background-color: #434B5C;\n",
              "      box-shadow: 0px 1px 3px 1px rgba(0, 0, 0, 0.15);\n",
              "      filter: drop-shadow(0px 1px 2px rgba(0, 0, 0, 0.3));\n",
              "      fill: #FFFFFF;\n",
              "    }\n",
              "  </style>\n",
              "\n",
              "      <script>\n",
              "        const buttonEl =\n",
              "          document.querySelector('#df-36acece9-7ea6-446b-8ed0-9e4d42c3d543 button.colab-df-convert');\n",
              "        buttonEl.style.display =\n",
              "          google.colab.kernel.accessAllowed ? 'block' : 'none';\n",
              "\n",
              "        async function convertToInteractive(key) {\n",
              "          const element = document.querySelector('#df-36acece9-7ea6-446b-8ed0-9e4d42c3d543');\n",
              "          const dataTable =\n",
              "            await google.colab.kernel.invokeFunction('convertToInteractive',\n",
              "                                                     [key], {});\n",
              "          if (!dataTable) return;\n",
              "\n",
              "          const docLinkHtml = 'Like what you see? Visit the ' +\n",
              "            '<a target=\"_blank\" href=https://colab.research.google.com/notebooks/data_table.ipynb>data table notebook</a>'\n",
              "            + ' to learn more about interactive tables.';\n",
              "          element.innerHTML = '';\n",
              "          dataTable['output_type'] = 'display_data';\n",
              "          await google.colab.output.renderOutput(dataTable, element);\n",
              "          const docLink = document.createElement('div');\n",
              "          docLink.innerHTML = docLinkHtml;\n",
              "          element.appendChild(docLink);\n",
              "        }\n",
              "      </script>\n",
              "    </div>\n",
              "  </div>\n",
              "  "
            ]
          },
          "metadata": {},
          "execution_count": 264
        }
      ]
    },
    {
      "cell_type": "markdown",
      "source": [
        "Brandon Divas from Los angeles placed the biggest order from 2021 with a total order of 7675.0$"
      ],
      "metadata": {
        "id": "E9ib-T2gMohG"
      }
    },
    {
      "cell_type": "markdown",
      "source": [
        "**Question #6:** Historically, what is the best month for sales?"
      ],
      "metadata": {
        "id": "eZxgmygExrnP"
      }
    },
    {
      "cell_type": "code",
      "source": [
        "series_2021=orders_2021.sort_values('Date')"
      ],
      "metadata": {
        "id": "43Dl0mNcN98p"
      },
      "execution_count": 275,
      "outputs": []
    },
    {
      "cell_type": "code",
      "source": [
        "fig, ax = plt.subplots()\n",
        "fig.set_size_inches([15, 5])\n",
        "sns.set_style(\"darkgrid\")\n",
        "# Add the time-series for \"OrderTotal\" to the plot\n",
        "ax.plot(series_2021.index,orders_2021['OrderTotal'])\n",
        "\n",
        "# Set the x-axis label\n",
        "ax.set_xlabel('Time')\n",
        "\n",
        "# Set the y-axis label\n",
        "ax.set_ylabel('Sales')\n",
        "plt.xticks(rotation=90)\n",
        "# Show the figure\n",
        "plt.show()"
      ],
      "metadata": {
        "colab": {
          "base_uri": "https://localhost:8080/",
          "height": 362
        },
        "id": "ZT27rbSwKrkG",
        "outputId": "d9cf026b-bc34-470f-9b3f-b5cc771e232a"
      },
      "execution_count": 281,
      "outputs": [
        {
          "output_type": "display_data",
          "data": {
            "text/plain": [
              "<Figure size 1080x360 with 1 Axes>"
            ],
            "image/png": "[encoded data removed]"
          },
          "metadata": {}
        }
      ]
    },
    {
      "cell_type": "code",
      "source": [
        "orders_2020=orders_time_series[(orders_time_series.index >= '2020-01-01')&(orders_time_series.index <= '2020-12-31')]\n",
        "series_2020=orders_2020.sort_values('Date')\n",
        "\n",
        "fig, ax = plt.subplots()\n",
        "fig.set_size_inches([15, 5])\n",
        "sns.set_style(\"darkgrid\")\n",
        "# Add the time-series for \"OrderTotal\" to the plot\n",
        "ax.plot(series_2020.index,orders_2020['OrderTotal'])\n",
        "\n",
        "# Set the x-axis label\n",
        "ax.set_xlabel('Time')\n",
        "\n",
        "# Set the y-axis label\n",
        "ax.set_ylabel('Sales')\n",
        "plt.xticks(rotation=90)\n",
        "# Show the figure\n",
        "plt.show()"
      ],
      "metadata": {
        "colab": {
          "base_uri": "https://localhost:8080/",
          "height": 376
        },
        "id": "EF_QGXl7SvDh",
        "outputId": "e68af659-1a0e-429f-d6aa-a14d99c77b77"
      },
      "execution_count": 293,
      "outputs": [
        {
          "output_type": "display_data",
          "data": {
            "text/plain": [
              "<Figure size 1080x360 with 1 Axes>"
            ],
            "image/png": "[encoded data removed]"
          },
          "metadata": {}
        }
      ]
    },
    {
      "cell_type": "code",
      "source": [
        "orders_2019=orders_time_series[(orders_time_series.index >= '2019-01-01')&(orders_time_series.index <= '2019-12-31')]\n",
        "series_2019=orders_2019.sort_values('Date')\n",
        "\n",
        "fig, ax = plt.subplots()\n",
        "fig.set_size_inches([15, 5])\n",
        "sns.set_style(\"darkgrid\")\n",
        "# Add the time-series for \"OrderTotal\" to the plot\n",
        "ax.plot(series_2019.index,orders_2019['OrderTotal'])\n",
        "\n",
        "# Set the x-axis label\n",
        "ax.set_xlabel('Time')\n",
        "\n",
        "# Set the y-axis label\n",
        "ax.set_ylabel('Sales')\n",
        "plt.xticks(rotation=90)\n",
        "# Show the figure\n",
        "plt.show()"
      ],
      "metadata": {
        "colab": {
          "base_uri": "https://localhost:8080/",
          "height": 362
        },
        "id": "8qcOrhLxTNcP",
        "outputId": "343b3d61-c278-4c51-dbf6-fd327441bed8"
      },
      "execution_count": 294,
      "outputs": [
        {
          "output_type": "display_data",
          "data": {
            "text/plain": [
              "<Figure size 1080x360 with 1 Axes>"
            ],
            "image/png": "[encoded data removed]"
          },
          "metadata": {}
        }
      ]
    },
    {
      "cell_type": "markdown",
      "source": [
        "Theres a tendency for sales to increase at the end of the year(November)"
      ],
      "metadata": {
        "id": "YtHNfqq5Tv3y"
      }
    }
  ]
}